{
 "cells": [
  {
   "cell_type": "markdown",
   "metadata": {
    "papermill": {
     "duration": 0.047571,
     "end_time": "2020-10-22T17:26:16.428090",
     "exception": false,
     "start_time": "2020-10-22T17:26:16.380519",
     "status": "completed"
    },
    "tags": []
   },
   "source": [
    "# Predicting Flight Delays\n",
    "\n",
    "In this notebook, we use the combined flight delay and weather data we have created to create and evaluate models to predict flight delays.\n",
    "\n",
    "**Note** the full flight delay dataset is very large (over 80GB uncompressed), so we are working with a smaller sample dataset. Hence our results may not be a true reflection of the results on the full dataset.\n",
    "\n",
    "#### Import required modules\n",
    "\n",
    "Import and configure the required modules."
   ]
  },
  {
   "cell_type": "code",
   "execution_count": 1,
   "metadata": {
    "execution": {
     "iopub.execute_input": "2020-10-22T17:26:16.511188Z",
     "iopub.status.busy": "2020-10-22T17:26:16.508939Z",
     "iopub.status.idle": "2020-10-22T17:26:20.374762Z",
     "shell.execute_reply": "2020-10-22T17:26:20.375731Z"
    },
    "papermill": {
     "duration": 3.909129,
     "end_time": "2020-10-22T17:26:20.376223",
     "exception": false,
     "start_time": "2020-10-22T17:26:16.467094",
     "status": "completed"
    },
    "tags": []
   },
   "outputs": [],
   "source": [
    "!pip install seaborn scikit-learn > /dev/null 2>&1"
   ]
  },
  {
   "cell_type": "code",
   "execution_count": 2,
   "metadata": {
    "execution": {
     "iopub.execute_input": "2020-10-22T17:26:20.454483Z",
     "iopub.status.busy": "2020-10-22T17:26:20.452819Z",
     "iopub.status.idle": "2020-10-22T17:26:23.262651Z",
     "shell.execute_reply": "2020-10-22T17:26:23.263818Z"
    },
    "papermill": {
     "duration": 2.862921,
     "end_time": "2020-10-22T17:26:23.264148",
     "exception": false,
     "start_time": "2020-10-22T17:26:20.401227",
     "status": "completed"
    },
    "tags": []
   },
   "outputs": [],
   "source": [
    "# Define required imports\n",
    "import pandas as pd\n",
    "import numpy as np\n",
    "import seaborn as sns\n",
    "import matplotlib.pyplot as plt\n",
    "sns.set_theme(style='darkgrid', palette='deep')\n",
    "# These set pandas max column and row display in the notebook\n",
    "pd.set_option('display.max_columns', 50)\n",
    "pd.set_option('display.max_rows', 50)"
   ]
  },
  {
   "cell_type": "markdown",
   "metadata": {
    "papermill": {
     "duration": 0.04214,
     "end_time": "2020-10-22T17:26:23.345782",
     "exception": false,
     "start_time": "2020-10-22T17:26:23.303642",
     "status": "completed"
    },
    "tags": []
   },
   "source": [
    "### Read the data\n",
    "\n",
    "We start by reading in the merged flight delay and weather data"
   ]
  },
  {
   "cell_type": "code",
   "execution_count": 3,
   "metadata": {
    "execution": {
     "iopub.execute_input": "2020-10-22T17:26:23.441265Z",
     "iopub.status.busy": "2020-10-22T17:26:23.438122Z",
     "iopub.status.idle": "2020-10-22T17:26:23.594903Z",
     "shell.execute_reply": "2020-10-22T17:26:23.596386Z"
    },
    "papermill": {
     "duration": 0.213534,
     "end_time": "2020-10-22T17:26:23.597277",
     "exception": false,
     "start_time": "2020-10-22T17:26:23.383743",
     "status": "completed"
    },
    "tags": []
   },
   "outputs": [
    {
     "data": {
      "text/html": [
       "<div>\n",
       "<style scoped>\n",
       "    .dataframe tbody tr th:only-of-type {\n",
       "        vertical-align: middle;\n",
       "    }\n",
       "\n",
       "    .dataframe tbody tr th {\n",
       "        vertical-align: top;\n",
       "    }\n",
       "\n",
       "    .dataframe thead th {\n",
       "        text-align: right;\n",
       "    }\n",
       "</style>\n",
       "<table border=\"1\" class=\"dataframe\">\n",
       "  <thead>\n",
       "    <tr style=\"text-align: right;\">\n",
       "      <th></th>\n",
       "      <th>flight_date</th>\n",
       "      <th>month</th>\n",
       "      <th>day_of_month</th>\n",
       "      <th>day_of_week</th>\n",
       "      <th>airline_id</th>\n",
       "      <th>airline_name</th>\n",
       "      <th>origin</th>\n",
       "      <th>dest</th>\n",
       "      <th>sched_dep_time</th>\n",
       "      <th>dep_time_bin</th>\n",
       "      <th>distance_bin</th>\n",
       "      <th>delayed</th>\n",
       "      <th>dep_delay</th>\n",
       "      <th>hour_key</th>\n",
       "      <th>date_key</th>\n",
       "      <th>DATE</th>\n",
       "      <th>visibility</th>\n",
       "      <th>weather_type_raw</th>\n",
       "      <th>wind_speed</th>\n",
       "      <th>wind_gust_speed</th>\n",
       "      <th>precip</th>\n",
       "      <th>rain</th>\n",
       "      <th>ice_pellets</th>\n",
       "      <th>mist</th>\n",
       "      <th>snow</th>\n",
       "      <th>drizzle</th>\n",
       "      <th>haze</th>\n",
       "      <th>fog</th>\n",
       "      <th>thunderstorm</th>\n",
       "      <th>smoke</th>\n",
       "      <th>unknown_precipitation</th>\n",
       "    </tr>\n",
       "  </thead>\n",
       "  <tbody>\n",
       "    <tr>\n",
       "      <th>0</th>\n",
       "      <td>2015-03-17</td>\n",
       "      <td>3</td>\n",
       "      <td>17</td>\n",
       "      <td>2</td>\n",
       "      <td>20409</td>\n",
       "      <td>JetBlue</td>\n",
       "      <td>JFK</td>\n",
       "      <td>RSW</td>\n",
       "      <td>1525</td>\n",
       "      <td>1500-1559</td>\n",
       "      <td>5</td>\n",
       "      <td>0</td>\n",
       "      <td>-7</td>\n",
       "      <td>14</td>\n",
       "      <td>2015-03-17</td>\n",
       "      <td>2015-03-17 14:51:00</td>\n",
       "      <td>10.0</td>\n",
       "      <td>NaN</td>\n",
       "      <td>30</td>\n",
       "      <td>9</td>\n",
       "      <td>0.0</td>\n",
       "      <td>0</td>\n",
       "      <td>0</td>\n",
       "      <td>0</td>\n",
       "      <td>0</td>\n",
       "      <td>0</td>\n",
       "      <td>0</td>\n",
       "      <td>0</td>\n",
       "      <td>0</td>\n",
       "      <td>0</td>\n",
       "      <td>0</td>\n",
       "    </tr>\n",
       "    <tr>\n",
       "      <th>1</th>\n",
       "      <td>2016-05-25</td>\n",
       "      <td>5</td>\n",
       "      <td>25</td>\n",
       "      <td>3</td>\n",
       "      <td>20409</td>\n",
       "      <td>JetBlue</td>\n",
       "      <td>JFK</td>\n",
       "      <td>SJU</td>\n",
       "      <td>2119</td>\n",
       "      <td>2100-2159</td>\n",
       "      <td>7</td>\n",
       "      <td>0</td>\n",
       "      <td>0</td>\n",
       "      <td>20</td>\n",
       "      <td>2016-05-25</td>\n",
       "      <td>2016-05-25 20:51:00</td>\n",
       "      <td>10.0</td>\n",
       "      <td>NaN</td>\n",
       "      <td>11</td>\n",
       "      <td>0</td>\n",
       "      <td>0.0</td>\n",
       "      <td>0</td>\n",
       "      <td>0</td>\n",
       "      <td>0</td>\n",
       "      <td>0</td>\n",
       "      <td>0</td>\n",
       "      <td>0</td>\n",
       "      <td>0</td>\n",
       "      <td>0</td>\n",
       "      <td>0</td>\n",
       "      <td>0</td>\n",
       "    </tr>\n",
       "    <tr>\n",
       "      <th>2</th>\n",
       "      <td>2017-07-26</td>\n",
       "      <td>7</td>\n",
       "      <td>26</td>\n",
       "      <td>3</td>\n",
       "      <td>19805</td>\n",
       "      <td>American Airlines</td>\n",
       "      <td>JFK</td>\n",
       "      <td>SFO</td>\n",
       "      <td>700</td>\n",
       "      <td>0700-0759</td>\n",
       "      <td>11</td>\n",
       "      <td>0</td>\n",
       "      <td>-3</td>\n",
       "      <td>6</td>\n",
       "      <td>2017-07-26</td>\n",
       "      <td>2017-07-26 06:51:00</td>\n",
       "      <td>10.0</td>\n",
       "      <td>NaN</td>\n",
       "      <td>7</td>\n",
       "      <td>0</td>\n",
       "      <td>0.0</td>\n",
       "      <td>0</td>\n",
       "      <td>0</td>\n",
       "      <td>0</td>\n",
       "      <td>0</td>\n",
       "      <td>0</td>\n",
       "      <td>0</td>\n",
       "      <td>0</td>\n",
       "      <td>0</td>\n",
       "      <td>0</td>\n",
       "      <td>0</td>\n",
       "    </tr>\n",
       "    <tr>\n",
       "      <th>3</th>\n",
       "      <td>2010-12-11</td>\n",
       "      <td>12</td>\n",
       "      <td>11</td>\n",
       "      <td>6</td>\n",
       "      <td>20409</td>\n",
       "      <td>JetBlue</td>\n",
       "      <td>JFK</td>\n",
       "      <td>LAS</td>\n",
       "      <td>1900</td>\n",
       "      <td>1900-1959</td>\n",
       "      <td>9</td>\n",
       "      <td>0</td>\n",
       "      <td>-5</td>\n",
       "      <td>18</td>\n",
       "      <td>2010-12-11</td>\n",
       "      <td>2010-12-11 18:51:00</td>\n",
       "      <td>10.0</td>\n",
       "      <td>NaN</td>\n",
       "      <td>3</td>\n",
       "      <td>0</td>\n",
       "      <td>0.0</td>\n",
       "      <td>0</td>\n",
       "      <td>0</td>\n",
       "      <td>0</td>\n",
       "      <td>0</td>\n",
       "      <td>0</td>\n",
       "      <td>0</td>\n",
       "      <td>0</td>\n",
       "      <td>0</td>\n",
       "      <td>0</td>\n",
       "      <td>0</td>\n",
       "    </tr>\n",
       "    <tr>\n",
       "      <th>4</th>\n",
       "      <td>2012-08-11</td>\n",
       "      <td>8</td>\n",
       "      <td>11</td>\n",
       "      <td>6</td>\n",
       "      <td>20398</td>\n",
       "      <td>Envoy Air</td>\n",
       "      <td>JFK</td>\n",
       "      <td>IND</td>\n",
       "      <td>1510</td>\n",
       "      <td>1500-1559</td>\n",
       "      <td>3</td>\n",
       "      <td>0</td>\n",
       "      <td>-2</td>\n",
       "      <td>14</td>\n",
       "      <td>2012-08-11</td>\n",
       "      <td>2012-08-11 14:51:00</td>\n",
       "      <td>10.0</td>\n",
       "      <td>NaN</td>\n",
       "      <td>18</td>\n",
       "      <td>0</td>\n",
       "      <td>0.0</td>\n",
       "      <td>0</td>\n",
       "      <td>0</td>\n",
       "      <td>0</td>\n",
       "      <td>0</td>\n",
       "      <td>0</td>\n",
       "      <td>0</td>\n",
       "      <td>0</td>\n",
       "      <td>0</td>\n",
       "      <td>0</td>\n",
       "      <td>0</td>\n",
       "    </tr>\n",
       "  </tbody>\n",
       "</table>\n",
       "</div>"
      ],
      "text/plain": [
       "  flight_date  month  day_of_month  day_of_week  airline_id  \\\n",
       "0  2015-03-17      3            17            2       20409   \n",
       "1  2016-05-25      5            25            3       20409   \n",
       "2  2017-07-26      7            26            3       19805   \n",
       "3  2010-12-11     12            11            6       20409   \n",
       "4  2012-08-11      8            11            6       20398   \n",
       "\n",
       "        airline_name origin dest  sched_dep_time dep_time_bin  distance_bin  \\\n",
       "0            JetBlue    JFK  RSW            1525    1500-1559             5   \n",
       "1            JetBlue    JFK  SJU            2119    2100-2159             7   \n",
       "2  American Airlines    JFK  SFO             700    0700-0759            11   \n",
       "3            JetBlue    JFK  LAS            1900    1900-1959             9   \n",
       "4          Envoy Air    JFK  IND            1510    1500-1559             3   \n",
       "\n",
       "   delayed  dep_delay  hour_key    date_key                 DATE  visibility  \\\n",
       "0        0         -7        14  2015-03-17  2015-03-17 14:51:00        10.0   \n",
       "1        0          0        20  2016-05-25  2016-05-25 20:51:00        10.0   \n",
       "2        0         -3         6  2017-07-26  2017-07-26 06:51:00        10.0   \n",
       "3        0         -5        18  2010-12-11  2010-12-11 18:51:00        10.0   \n",
       "4        0         -2        14  2012-08-11  2012-08-11 14:51:00        10.0   \n",
       "\n",
       "  weather_type_raw  wind_speed  wind_gust_speed  precip  rain  ice_pellets  \\\n",
       "0              NaN          30                9     0.0     0            0   \n",
       "1              NaN          11                0     0.0     0            0   \n",
       "2              NaN           7                0     0.0     0            0   \n",
       "3              NaN           3                0     0.0     0            0   \n",
       "4              NaN          18                0     0.0     0            0   \n",
       "\n",
       "   mist  snow  drizzle  haze  fog  thunderstorm  smoke  unknown_precipitation  \n",
       "0     0     0        0     0    0             0      0                      0  \n",
       "1     0     0        0     0    0             0      0                      0  \n",
       "2     0     0        0     0    0             0      0                      0  \n",
       "3     0     0        0     0    0             0      0                      0  \n",
       "4     0     0        0     0    0             0      0                      0  "
      ]
     },
     "execution_count": 3,
     "metadata": {},
     "output_type": "execute_result"
    }
   ],
   "source": [
    "flight_path = 'data/jfk_flight_weather_features.csv'\n",
    "flight_data = pd.read_csv(flight_path, parse_dates=['flight_date'])\n",
    "flight_data.head()"
   ]
  },
  {
   "cell_type": "markdown",
   "metadata": {
    "papermill": {
     "duration": 0.05091,
     "end_time": "2020-10-22T17:26:23.691715",
     "exception": false,
     "start_time": "2020-10-22T17:26:23.640805",
     "status": "completed"
    },
    "tags": []
   },
   "source": [
    "### Create train / test data split\n",
    "\n",
    "The first step in building our models is to split the dataset into training and test sets. We use a portion of the data for training, and another portion of data for our test sets.\n",
    "\n",
    "If we instead trained a model on the full dataset, the model would learn to be very good at making predictions on that particular dataset, essentially just copying the answers it knows. However, when presented with data the model has not seen , it would perform poorly since it has not learned how to generalize its answers.\n",
    "\n",
    "By training on a portion of the dataset and testing the model's performance on another portion of the dataset (which data the model has not seen in training), we try to avoid our models \"over-fitting\" the dataset and make them better at prediction when given unseen, future data. This process of splitting the dataset and evaluating a model's performance on \"held-out\" datasets is commonly known as _cross-validation_.\n",
    "\n",
    "By default here we use 80% of the data for the training set and 20% for the test set.\n",
    "\n",
    "**Note** for simplicity here we perform a random split. Technically, we have some time-dependent information leakage, since for earlier records, the model can use data from the future in training. In reality, a model at that point in time would not have information about the future available for training. For a better evaluation of the model performance on fully unseen, new data, the test set should be generated from _future_ data occurring after the time window in the training set."
   ]
  },
  {
   "cell_type": "code",
   "execution_count": 4,
   "metadata": {
    "execution": {
     "iopub.execute_input": "2020-10-22T17:26:23.850710Z",
     "iopub.status.busy": "2020-10-22T17:26:23.814585Z",
     "iopub.status.idle": "2020-10-22T17:26:24.838322Z",
     "shell.execute_reply": "2020-10-22T17:26:24.840107Z"
    },
    "papermill": {
     "duration": 1.10674,
     "end_time": "2020-10-22T17:26:24.840489",
     "exception": false,
     "start_time": "2020-10-22T17:26:23.733749",
     "status": "completed"
    },
    "tags": []
   },
   "outputs": [],
   "source": [
    "from sklearn.model_selection import train_test_split\n",
    "\n",
    "# Split the dataset into 80% training and 20% test sets, stratified by the 'delayed' field\n",
    "df_train, df_test = train_test_split(\n",
    "    flight_data, train_size=0.8, random_state=24, stratify=flight_data[['delayed']])"
   ]
  },
  {
   "cell_type": "code",
   "execution_count": 5,
   "metadata": {
    "execution": {
     "iopub.execute_input": "2020-10-22T17:26:24.966702Z",
     "iopub.status.busy": "2020-10-22T17:26:24.963793Z",
     "iopub.status.idle": "2020-10-22T17:26:24.973944Z",
     "shell.execute_reply": "2020-10-22T17:26:24.975981Z"
    },
    "papermill": {
     "duration": 0.101309,
     "end_time": "2020-10-22T17:26:24.977140",
     "exception": false,
     "start_time": "2020-10-22T17:26:24.875831",
     "status": "completed"
    },
    "tags": []
   },
   "outputs": [
    {
     "name": "stdout",
     "output_type": "stream",
     "text": [
      "Training set: 6478 rows\n",
      "Test set: 1620 rows\n"
     ]
    }
   ],
   "source": [
    "# specify the target variable\n",
    "y_train = df_train['delayed'].values\n",
    "y_test = df_test['delayed'].values\n",
    "print('Training set: {} rows'.format(len(df_train)))\n",
    "print('Test set: {} rows'.format(len(df_test)))"
   ]
  },
  {
   "cell_type": "markdown",
   "metadata": {
    "papermill": {
     "duration": 0.124923,
     "end_time": "2020-10-22T17:26:25.273203",
     "exception": false,
     "start_time": "2020-10-22T17:26:25.148280",
     "status": "completed"
    },
    "tags": []
   },
   "source": [
    "### Encode categorical variables\n",
    "\n",
    "Next, we want to encode the various _categorical_ features we have - such as the flight departure time bucket, airline and airport ids, and so on - into numerical representations. We do this by assigning integer ids to each unique feature value. This is known as ordinal encoding.\n",
    "\n",
    "Note that certain models (e.g. linear models) will interpret these numerical values as having an ordinal structure. However, for our demonstration purposes we will use tree-based models, which can handle these types of integer ids directly. \n",
    "\n",
    "For linear models, we would prefer to use one-hot encoding for categorical features."
   ]
  },
  {
   "cell_type": "code",
   "execution_count": 6,
   "metadata": {
    "execution": {
     "iopub.execute_input": "2020-10-22T17:26:25.429458Z",
     "iopub.status.busy": "2020-10-22T17:26:25.426526Z",
     "iopub.status.idle": "2020-10-22T17:26:25.459316Z",
     "shell.execute_reply": "2020-10-22T17:26:25.461647Z"
    },
    "papermill": {
     "duration": 0.122643,
     "end_time": "2020-10-22T17:26:25.462145",
     "exception": false,
     "start_time": "2020-10-22T17:26:25.339502",
     "status": "completed"
    },
    "tags": []
   },
   "outputs": [
    {
     "name": "stdout",
     "output_type": "stream",
     "text": [
      "Training set categorical features: 6478 rows, 7 features\n",
      "Test set categorical features: 1620 rows, 7 features\n"
     ]
    }
   ],
   "source": [
    "from sklearn.preprocessing import OrdinalEncoder, OneHotEncoder\n",
    "\n",
    "# specify columns for raw categorical features\n",
    "cat_columns = [\n",
    "    'month',\n",
    "    'day_of_month',\n",
    "    'day_of_week',\n",
    "    'airline_name',\n",
    "    'dest',\n",
    "    'dep_time_bin',\n",
    "    'distance_bin'\n",
    "]\n",
    "\n",
    "# extract categorical data columns for training set\n",
    "df_train_cat = df_train[cat_columns]\n",
    "# extract categorical data columns for test set\n",
    "df_test_cat = df_test[cat_columns]\n",
    "\n",
    "ord_enc = OrdinalEncoder()\n",
    "# fit and encode training features\n",
    "X_train_cat = ord_enc.fit_transform(df_train_cat)\n",
    "# encode test features\n",
    "X_test_cat = ord_enc.transform(df_test_cat)\n",
    "\n",
    "print('Training set categorical features: {} rows, {} features' .format(X_train_cat.shape[0], X_train_cat.shape[1]))\n",
    "print('Test set categorical features: {} rows, {} features' .format(X_test_cat.shape[0], X_test_cat.shape[1]))"
   ]
  },
  {
   "cell_type": "markdown",
   "metadata": {
    "papermill": {
     "duration": 0.055394,
     "end_time": "2020-10-22T17:26:25.566452",
     "exception": false,
     "start_time": "2020-10-22T17:26:25.511058",
     "status": "completed"
    },
    "tags": []
   },
   "source": [
    "### Encode numerical variables\n",
    "\n",
    "The next step is to encode numerical features. Depending on the models used, it can be very important to scale / normalize numerical features - such as `wind_speed` or `precip`. Again, linear models and neural networks are a good example of this. In our case we will use tree-based models, which again do not require feature scaling, hence we can use these numerical features directly without pre-processing. \n",
    "\n",
    "**Note** that the weather type features are also categorical. However, we have already encoded these as binary values in our pre-processing step, hence we can now treat these features as numerical."
   ]
  },
  {
   "cell_type": "code",
   "execution_count": 7,
   "metadata": {
    "execution": {
     "iopub.execute_input": "2020-10-22T17:26:25.889997Z",
     "iopub.status.busy": "2020-10-22T17:26:25.887481Z",
     "iopub.status.idle": "2020-10-22T17:26:25.896473Z",
     "shell.execute_reply": "2020-10-22T17:26:25.898007Z"
    },
    "papermill": {
     "duration": 0.163323,
     "end_time": "2020-10-22T17:26:25.898583",
     "exception": false,
     "start_time": "2020-10-22T17:26:25.735260",
     "status": "completed"
    },
    "tags": []
   },
   "outputs": [
    {
     "name": "stdout",
     "output_type": "stream",
     "text": [
      "Training set numerical features: 6478 rows, 14 features\n",
      "Test set numerical features: 1620 rows, 14 features\n"
     ]
    }
   ],
   "source": [
    "num_columns = [\n",
    "    'visibility',\n",
    "    'wind_speed',\n",
    "    'wind_gust_speed',\n",
    "    'precip',\n",
    "    'rain',\n",
    "    'ice_pellets',\n",
    "    'mist',\n",
    "    'snow',\n",
    "    'drizzle',\n",
    "    'haze',\n",
    "    'fog',\n",
    "    'thunderstorm',\n",
    "    'smoke',\n",
    "    'unknown_precipitation'\n",
    "]\n",
    "\n",
    "# extract numerical data columns for training set\n",
    "X_train_num = df_train[num_columns].values\n",
    "# extract numerical data columns for validation set\n",
    "X_test_num = df_test[num_columns].values\n",
    "\n",
    "print('Training set numerical features: {} rows, {} features' .format(X_train_num.shape[0], X_train_num.shape[1]))\n",
    "print('Test set numerical features: {} rows, {} features' .format(X_test_num.shape[0], X_test_num.shape[1]))"
   ]
  },
  {
   "cell_type": "markdown",
   "metadata": {
    "papermill": {
     "duration": 0.051884,
     "end_time": "2020-10-22T17:26:26.002948",
     "exception": false,
     "start_time": "2020-10-22T17:26:25.951064",
     "status": "completed"
    },
    "tags": []
   },
   "source": [
    "#### Combine categorical and numerical features\n",
    "\n",
    "We can now combine the two sets of features by concatenating them (\"horizontally stacking\"):"
   ]
  },
  {
   "cell_type": "code",
   "execution_count": 8,
   "metadata": {
    "execution": {
     "iopub.execute_input": "2020-10-22T17:26:26.108946Z",
     "iopub.status.busy": "2020-10-22T17:26:26.104111Z",
     "iopub.status.idle": "2020-10-22T17:26:26.115031Z",
     "shell.execute_reply": "2020-10-22T17:26:26.114235Z"
    },
    "papermill": {
     "duration": 0.072161,
     "end_time": "2020-10-22T17:26:26.115541",
     "exception": false,
     "start_time": "2020-10-22T17:26:26.043380",
     "status": "completed"
    },
    "tags": []
   },
   "outputs": [
    {
     "name": "stdout",
     "output_type": "stream",
     "text": [
      "Training set all features: 6478 rows, 21 features\n",
      "Test set all features: 1620 rows, 21 features\n"
     ]
    }
   ],
   "source": [
    "X_train = np.hstack((X_train_cat, X_train_num))\n",
    "X_test = np.hstack((X_test_cat, X_test_num))\n",
    "print('Training set all features: {} rows, {} features' .format(X_train.shape[0], X_train.shape[1]))\n",
    "print('Test set all features: {} rows, {} features' .format(X_test.shape[0], X_test.shape[1]))"
   ]
  },
  {
   "cell_type": "markdown",
   "metadata": {
    "papermill": {
     "duration": 0.103883,
     "end_time": "2020-10-22T17:26:26.323488",
     "exception": false,
     "start_time": "2020-10-22T17:26:26.219605",
     "status": "completed"
    },
    "tags": []
   },
   "source": [
    "### Train and evaluate models\n",
    "\n",
    "Now that we have pre-processed all our features into numerical representations, we can pass them to our machine learning models.\n",
    "\n",
    "For simplicity, we will evalute 2 tree-based models: a single decision tree; a random forest and a gradient-boosting tree (both of these are \"ensemble\" models made up of many smaller sub-models, typicaly themselves single decision trees).\n",
    "\n",
    "Tree ensemble models are very flexible and powerful, and typically perform well \"out the box\" in particlar on tabular datasets such as we have here. As we have seen, they also require less feature pre-processing and engineering in general than, for example, linear models."
   ]
  },
  {
   "cell_type": "code",
   "execution_count": 9,
   "metadata": {
    "execution": {
     "iopub.execute_input": "2020-10-22T17:26:26.478459Z",
     "iopub.status.busy": "2020-10-22T17:26:26.475371Z",
     "iopub.status.idle": "2020-10-22T17:26:26.674803Z",
     "shell.execute_reply": "2020-10-22T17:26:26.676293Z"
    },
    "papermill": {
     "duration": 0.298763,
     "end_time": "2020-10-22T17:26:26.676870",
     "exception": false,
     "start_time": "2020-10-22T17:26:26.378107",
     "status": "completed"
    },
    "tags": []
   },
   "outputs": [],
   "source": [
    "from sklearn.ensemble import RandomForestClassifier, GradientBoostingClassifier\n",
    "from sklearn.tree import DecisionTreeClassifier\n",
    "from sklearn.model_selection import cross_val_score, cross_validate\n",
    "                 \n",
    "dt = DecisionTreeClassifier()\n",
    "rf = RandomForestClassifier()\n",
    "gb = GradientBoostingClassifier()"
   ]
  },
  {
   "cell_type": "markdown",
   "metadata": {
    "papermill": {
     "duration": 0.075373,
     "end_time": "2020-10-22T17:26:26.809462",
     "exception": false,
     "start_time": "2020-10-22T17:26:26.734089",
     "status": "completed"
    },
    "tags": []
   },
   "source": [
    "We have split out dataset into a training and test set. However, the test set itself should never be directly used in model training, but only to perform a final model evaluation. This gives an estimate on how the model might perform in the \"real world\".\n",
    "\n",
    "We would still like to perform model selection, which means we need to evaluate our models using the training set in some way. To avoid over-fitting on the training set, as well as to give a good estimate on how the model may perform on our test set, we will use K-fold cross-validation on our training set.\n",
    "\n",
    "This splits the dataset into `k` (in our case `5`) non-overlapping subsets (`folds`). In turn, the model is trained on 4 of these (80% of training data) and evaluated on 1 (20% of training data). This is repeated `k` times and the evaluation scores are averaged across each of the `k` runs. This averaged metric typically gives a fairly good indication of how the model performs on unseen data.\n",
    "\n",
    "`scikit-learn` provides us this functionality, built-in and easy to use!\n",
    "\n",
    "**Note** As we see in the analysis notebook, we are dealing with some degree of class imbalance - on-time flights are far more prevelant compared to delayed flights (80% / 20% split). So, we need to be cautious when evaluting the performance of such models. For example, if we use `accuracy` as a metric, then a simple rule that classifies all flights as `on-time` would achieve 80% accuracy, which sounds very good! However, the model is completely unable to actually predict whether a flight will be delayed, so is useless for any real-world application.\n",
    "\n",
    "A common metric in for binary classification is the area under the ROC curve (`roc_auc`). However, this metric can sometimes provide an unclear picture for imbalanced classes.\n",
    "\n",
    "There are a few metrics that try to alleviate this problem for binary classification problems. We will be using `F1 score` as our metric for selecting the model to use, since it can handle the class imbalance problem.\n",
    "\n",
    "The selection of metric also depends on the particular use case."
   ]
  },
  {
   "cell_type": "code",
   "execution_count": 10,
   "metadata": {
    "execution": {
     "iopub.execute_input": "2020-10-22T17:26:26.975368Z",
     "iopub.status.busy": "2020-10-22T17:26:26.972090Z",
     "iopub.status.idle": "2020-10-22T17:26:48.107640Z",
     "shell.execute_reply": "2020-10-22T17:26:48.111100Z"
    },
    "papermill": {
     "duration": 21.23199,
     "end_time": "2020-10-22T17:26:48.111681",
     "exception": false,
     "start_time": "2020-10-22T17:26:26.879691",
     "status": "completed"
    },
    "tags": []
   },
   "outputs": [],
   "source": [
    "metric = 'f1'\n",
    "scores = cross_val_score(dt, X_train, y_train, cv=5, scoring=metric)\n",
    "dt_score = np.mean(scores)\n",
    "\n",
    "scores = cross_val_score(rf, X_train, y_train, cv=5, scoring=metric)\n",
    "rf_score = np.mean(scores)\n",
    "\n",
    "scores = cross_val_score(gb, X_train, y_train, cv=5, scoring=metric)\n",
    "gb_score = np.mean(scores)"
   ]
  },
  {
   "cell_type": "code",
   "execution_count": 11,
   "metadata": {
    "execution": {
     "iopub.execute_input": "2020-10-22T17:26:48.266181Z",
     "iopub.status.busy": "2020-10-22T17:26:48.262596Z",
     "iopub.status.idle": "2020-10-22T17:26:48.690197Z",
     "shell.execute_reply": "2020-10-22T17:26:48.691575Z"
    },
    "papermill": {
     "duration": 0.525231,
     "end_time": "2020-10-22T17:26:48.692112",
     "exception": false,
     "start_time": "2020-10-22T17:26:48.166881",
     "status": "completed"
    },
    "tags": []
   },
   "outputs": [
    {
     "data": {
      "image/png": "[encoded data removed]",
      "text/plain": [
       "<Figure size 1152x432 with 1 Axes>"
      ]
     },
     "metadata": {},
     "output_type": "display_data"
    },
    {
     "name": "stdout",
     "output_type": "stream",
     "text": [
      "Average f1 for DecisionTreeClassifier: 0.2614747614791254\n",
      "Average f1 for RandomForestClassifier: 0.12305070861115985\n",
      "Average f1 for GradientBoostingClassifier: 0.11136452273364679\n"
     ]
    }
   ],
   "source": [
    "cv_scores = [dt_score, rf_score, gb_score]\n",
    "plt.figure(figsize=(16, 6))\n",
    "sns.barplot(x=['DecisionTreeClassifier', 'RandomForestClassifier', 'GradientBoostingClassifier'], y=cv_scores)\n",
    "plt.show()\n",
    "\n",
    "print('Average {} for DecisionTreeClassifier: {}'.format(metric, dt_score))\n",
    "print('Average {} for RandomForestClassifier: {}'.format(metric, rf_score))\n",
    "print('Average {} for GradientBoostingClassifier: {}'.format(metric, gb_score))"
   ]
  },
  {
   "cell_type": "markdown",
   "metadata": {
    "papermill": {
     "duration": 0.095563,
     "end_time": "2020-10-22T17:26:48.857247",
     "exception": false,
     "start_time": "2020-10-22T17:26:48.761684",
     "status": "completed"
    },
    "tags": []
   },
   "source": [
    "Based on this, we will select the `DecisionTreeClassifier`.\n",
    "\n",
    "**Note** based on the `auc_roc` metric, we would have selected the `GradientBoostingClassifier` - try it out in the cells above to see and then compare the model performance later on.\n",
    "\n",
    "We can also evaluate the impact of adding our weather features on model performance:"
   ]
  },
  {
   "cell_type": "code",
   "execution_count": 12,
   "metadata": {
    "execution": {
     "iopub.execute_input": "2020-10-22T17:26:49.100518Z",
     "iopub.status.busy": "2020-10-22T17:26:49.095016Z",
     "iopub.status.idle": "2020-10-22T17:26:50.108730Z",
     "shell.execute_reply": "2020-10-22T17:26:50.110325Z"
    },
    "papermill": {
     "duration": 1.167321,
     "end_time": "2020-10-22T17:26:50.110871",
     "exception": false,
     "start_time": "2020-10-22T17:26:48.943550",
     "status": "completed"
    },
    "tags": []
   },
   "outputs": [],
   "source": [
    "scores = cross_val_score(dt, X_train_cat, y_train, cv=5, scoring=metric)\n",
    "cat_score = np.mean(scores)\n",
    "\n",
    "scores = cross_val_score(dt, X_train_num, y_train, cv=5, scoring=metric)\n",
    "num_score = np.mean(scores)\n",
    "\n",
    "scores = cross_val_score(dt, X_train, y_train, cv=5, scoring=metric)\n",
    "all_score = np.mean(scores)"
   ]
  },
  {
   "cell_type": "code",
   "execution_count": 13,
   "metadata": {
    "execution": {
     "iopub.execute_input": "2020-10-22T17:26:50.285655Z",
     "iopub.status.busy": "2020-10-22T17:26:50.282533Z",
     "iopub.status.idle": "2020-10-22T17:26:50.963267Z",
     "shell.execute_reply": "2020-10-22T17:26:50.965230Z"
    },
    "papermill": {
     "duration": 0.786451,
     "end_time": "2020-10-22T17:26:50.966107",
     "exception": false,
     "start_time": "2020-10-22T17:26:50.179656",
     "status": "completed"
    },
    "tags": []
   },
   "outputs": [
    {
     "data": {
      "image/png": "[encoded data removed]",
      "text/plain": [
       "<Figure size 1152x432 with 1 Axes>"
      ]
     },
     "metadata": {},
     "output_type": "display_data"
    },
    {
     "name": "stdout",
     "output_type": "stream",
     "text": [
      "Average f1 for only flight delay features: 0.2582810290789791\n",
      "Average f1 for only weather features: 0.10614739272745635\n",
      "Average f1 for all features: 0.2614503106337952\n"
     ]
    }
   ],
   "source": [
    "cv_scores = [cat_score, num_score, all_score]\n",
    "plt.figure(figsize=(16, 6))\n",
    "sns.barplot(x=['Flight features', 'Weather features', 'Flight + Weather features'], y=cv_scores)\n",
    "plt.show()\n",
    "\n",
    "print('Average {} for only flight delay features: {}'.format(metric, cat_score))\n",
    "print('Average {} for only weather features: {}'.format(metric, num_score))\n",
    "print('Average {} for all features: {}'.format(metric, all_score))"
   ]
  },
  {
   "cell_type": "markdown",
   "metadata": {
    "papermill": {
     "duration": 0.064698,
     "end_time": "2020-10-22T17:26:51.087416",
     "exception": false,
     "start_time": "2020-10-22T17:26:51.022718",
     "status": "completed"
    },
    "tags": []
   },
   "source": [
    "We see that using only weather features does little better than random guessing, while adding weather features to the flight features increases our metric by around `0.01`. This is not a very large amount, but it does indicate that information about weather helps a little with predictions. In some applications, even small increases in model performance can be significant.\n",
    "\n",
    "Finally, we re-train the model on the full training dataset and perform a final classification evaluation on the test set."
   ]
  },
  {
   "cell_type": "code",
   "execution_count": 14,
   "metadata": {
    "execution": {
     "iopub.execute_input": "2020-10-22T17:26:51.232965Z",
     "iopub.status.busy": "2020-10-22T17:26:51.229037Z",
     "iopub.status.idle": "2020-10-22T17:26:51.315416Z",
     "shell.execute_reply": "2020-10-22T17:26:51.320001Z"
    },
    "papermill": {
     "duration": 0.167635,
     "end_time": "2020-10-22T17:26:51.323351",
     "exception": false,
     "start_time": "2020-10-22T17:26:51.155716",
     "status": "completed"
    },
    "tags": []
   },
   "outputs": [
    {
     "name": "stdout",
     "output_type": "stream",
     "text": [
      "Final f1 for test set: 0.2506963788300836\n"
     ]
    }
   ],
   "source": [
    "from sklearn.metrics import confusion_matrix, roc_auc_score, f1_score, classification_report\n",
    "from sklearn.metrics import plot_roc_curve, plot_confusion_matrix, plot_precision_recall_curve\n",
    "\n",
    "# fit on full data\n",
    "dt.fit(X_train, y_train)\n",
    "y_prob = dt.predict_proba(X_test)[:, 1]\n",
    "y_pred = dt.predict(X_test)\n",
    "\n",
    "print('Final {} for test set: {}'.format(metric, f1_score(y_test, y_prob)))"
   ]
  },
  {
   "cell_type": "code",
   "execution_count": 15,
   "metadata": {
    "execution": {
     "iopub.execute_input": "2020-10-22T17:26:51.666162Z",
     "iopub.status.busy": "2020-10-22T17:26:51.662639Z",
     "iopub.status.idle": "2020-10-22T17:26:53.824642Z",
     "shell.execute_reply": "2020-10-22T17:26:53.826731Z"
    },
    "papermill": {
     "duration": 2.438864,
     "end_time": "2020-10-22T17:26:53.827212",
     "exception": false,
     "start_time": "2020-10-22T17:26:51.388348",
     "status": "completed"
    },
    "tags": []
   },
   "outputs": [
    {
     "data": {
      "image/png": "[encoded data removed]",
      "text/plain": [
       "<Figure size 1152x432 with 2 Axes>"
      ]
     },
     "metadata": {},
     "output_type": "display_data"
    }
   ],
   "source": [
    "fig = plt.figure(figsize=(16, 6))\n",
    "plt.subplot(121)\n",
    "plot_roc_curve(dt, X_test, y_test, ax=fig.gca())\n",
    "plt.subplot(122)\n",
    "plot_precision_recall_curve(dt, X_test, y_test, ax=fig.gca())\n",
    "plt.show()"
   ]
  },
  {
   "cell_type": "code",
   "execution_count": 16,
   "metadata": {
    "execution": {
     "iopub.execute_input": "2020-10-22T17:26:54.118680Z",
     "iopub.status.busy": "2020-10-22T17:26:54.115424Z",
     "iopub.status.idle": "2020-10-22T17:26:54.133184Z",
     "shell.execute_reply": "2020-10-22T17:26:54.134604Z"
    },
    "papermill": {
     "duration": 0.220908,
     "end_time": "2020-10-22T17:26:54.135194",
     "exception": false,
     "start_time": "2020-10-22T17:26:53.914286",
     "status": "completed"
    },
    "tags": []
   },
   "outputs": [
    {
     "name": "stdout",
     "output_type": "stream",
     "text": [
      "              precision    recall  f1-score   support\n",
      "\n",
      "     On-time       0.80      0.77      0.79      1282\n",
      "     Delayed       0.24      0.27      0.25       338\n",
      "\n",
      "    accuracy                           0.67      1620\n",
      "   macro avg       0.52      0.52      0.52      1620\n",
      "weighted avg       0.68      0.67      0.67      1620\n",
      "\n"
     ]
    }
   ],
   "source": [
    "print(classification_report(y_test, y_pred, target_names=['On-time', 'Delayed']))"
   ]
  },
  {
   "cell_type": "code",
   "execution_count": 17,
   "metadata": {
    "execution": {
     "iopub.execute_input": "2020-10-22T17:26:54.375971Z",
     "iopub.status.busy": "2020-10-22T17:26:54.373641Z",
     "iopub.status.idle": "2020-10-22T17:26:55.540844Z",
     "shell.execute_reply": "2020-10-22T17:26:55.542292Z"
    },
    "papermill": {
     "duration": 1.330103,
     "end_time": "2020-10-22T17:26:55.543314",
     "exception": false,
     "start_time": "2020-10-22T17:26:54.213211",
     "status": "completed"
    },
    "tags": []
   },
   "outputs": [
    {
     "data": {
      "image/png": "[encoded data removed]",
      "text/plain": [
       "<Figure size 864x576 with 2 Axes>"
      ]
     },
     "metadata": {},
     "output_type": "display_data"
    }
   ],
   "source": [
    "cm = confusion_matrix(y_test, y_pred)\n",
    "class_labels = ['On-time', 'Delayed']\n",
    "labels = ['{0:0.0f}'.format(value) for value in\n",
    "                cm.flatten()]\n",
    "labels = np.asarray(labels).reshape(2,2)\n",
    "fig = plt.figure(figsize=(12, 8))\n",
    "chart = sns.heatmap(\n",
    "    cm, annot=labels, fmt='', cmap='Blues',\n",
    "    xticklabels=class_labels, yticklabels=class_labels)\n",
    "chart.set_xlabel('Predicted label')\n",
    "chart.set_ylabel('True label')\n",
    "chart.set_title('Confusion Matrix')\n",
    "plt.show()"
   ]
  },
  {
   "cell_type": "markdown",
   "metadata": {
    "papermill": {
     "duration": 0.131683,
     "end_time": "2020-10-22T17:26:55.796944",
     "exception": false,
     "start_time": "2020-10-22T17:26:55.665261",
     "status": "completed"
    },
    "tags": []
   },
   "source": [
    "If we investigate the various classification charts and reports, we can see that our problem of classifying whether a flight will be delayed or not is a tricky one.\n",
    "\n",
    "As one might expect, the model predicts most `on-time` flights as `on-time` (80%). However, it struggles to correctly predict `delayed` flights, instead classifying them as `on-time`. In fact it only correctly predicts delays 28% of the time! (this is the `recall` figure for `Delayed` in the classification report table). When it predicts a delayed flight, it is correct only 25% of the time (this is the `precision` field).\n",
    "\n",
    "Overall, we would say that our model is doing a mediocre job of predicting flight delays - we either need to do a lot more model tuning and hyper-parameter selection, or use more data and better features.\n",
    "\n",
    "Perhaps you can try to find ways to improve the performance!\n",
    "\n",
    "Finally, we can generate a list of \"feature importances\" to see what the model is focusing on for making predictions:"
   ]
  },
  {
   "cell_type": "code",
   "execution_count": 18,
   "metadata": {
    "execution": {
     "iopub.execute_input": "2020-10-22T17:26:56.186730Z",
     "iopub.status.busy": "2020-10-22T17:26:56.174484Z",
     "iopub.status.idle": "2020-10-22T17:26:59.043373Z",
     "shell.execute_reply": "2020-10-22T17:26:59.045976Z"
    },
    "papermill": {
     "duration": 3.094587,
     "end_time": "2020-10-22T17:26:59.046717",
     "exception": false,
     "start_time": "2020-10-22T17:26:55.952130",
     "status": "completed"
    },
    "tags": []
   },
   "outputs": [
    {
     "data": {
      "image/png": "[encoded data removed]",
      "text/plain": [
       "<Figure size 1152x576 with 1 Axes>"
      ]
     },
     "metadata": {},
     "output_type": "display_data"
    }
   ],
   "source": [
    "feat_names = list(df_train_cat.columns.values) + list(df_train[num_columns].columns.values)\n",
    "feat_nb = dt.feature_importances_\n",
    "plt.figure(figsize=(16, 8))\n",
    "chart = sns.barplot(x=feat_names, y=feat_nb, palette='Blues')\n",
    "chart.set_xticklabels(\n",
    "    chart.get_xticklabels(), \n",
    "    rotation=45, \n",
    "    horizontalalignment='right',\n",
    "    fontweight='light',\n",
    "    fontsize='large'\n",
    ")\n",
    "plt.show()"
   ]
  },
  {
   "cell_type": "markdown",
   "metadata": {
    "papermill": {
     "duration": 0.144384,
     "end_time": "2020-10-22T17:26:59.328494",
     "exception": false,
     "start_time": "2020-10-22T17:26:59.184110",
     "status": "completed"
    },
    "tags": []
   },
   "source": [
    "Of the flight features, the time-based features as well as departure time and destination seem to be most important. For weather features, wind speed and visibility seem to be dominant in importance."
   ]
  },
  {
   "cell_type": "markdown",
   "metadata": {
    "papermill": {
     "duration": 0.149972,
     "end_time": "2020-10-22T17:26:59.625182",
     "exception": false,
     "start_time": "2020-10-22T17:26:59.475210",
     "status": "completed"
    },
    "tags": []
   },
   "source": [
    "### Authors\n",
    "This notebook was created by the [Center for Open-Source Data & AI Technologies](http://codait.org).\n",
    "\n",
    "Copyright © 2019 IBM. This notebook and its source code are released under the terms of the MIT License."
   ]
  }
 ],
 "metadata": {
  "kernelspec": {
   "display_name": "Python 3",
   "language": "python",
   "name": "python3"
  },
  "language_info": {
   "codemirror_mode": {
    "name": "ipython",
    "version": 3
   },
   "file_extension": ".py",
   "mimetype": "text/x-python",
   "name": "python",
   "nbconvert_exporter": "python",
   "pygments_lexer": "ipython3",
   "version": "3.7.7"
  },
  "papermill": {
   "duration": 46.218528,
   "end_time": "2020-10-22T17:27:00.776420",
   "environment_variables": {},
   "exception": null,
   "input_path": "/Users/nick/workspace/python/elyra-ml/predict_flight_delays.ipynb",
   "output_path": "/Users/nick/workspace/python/elyra-ml/predict_flight_delays.ipynb",
   "parameters": {},
   "start_time": "2020-10-22T17:26:14.557892",
   "version": "2.1.1"
  },
  "toc-autonumbering": false,
  "toc-showcode": false,
  "toc-showmarkdowntxt": false,
  "toc-showtags": false
 },
 "nbformat": 4,
 "nbformat_minor": 4
}