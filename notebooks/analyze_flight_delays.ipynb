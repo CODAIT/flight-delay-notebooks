{
 "cells": [
  {
   "cell_type": "markdown",
   "metadata": {
    "papermill": {
     "duration": 0.04815,
     "end_time": "2020-11-18T10:42:47.562722",
     "exception": false,
     "start_time": "2020-11-18T10:42:47.514572",
     "status": "completed"
    },
    "tags": []
   },
   "source": [
    "# Analyzing Airline Delay Data\n",
    "\n",
    "In this notebook, we show some illustrative analysis of our flight delay dataset, exploring whether certain features in the dataset have any impact on flights being delayed.\n",
    "\n",
    "**Note** the full flight delay dataset is very large (over 80GB uncompressed), so we are working with a smaller sample dataset. Hence any results may not be a true reflection of the results on the full dataset.\n",
    "\n",
    "#### Import required modules\n",
    "\n",
    "Import and configure the required modules."
   ]
  },
  {
   "cell_type": "code",
   "execution_count": null,
   "metadata": {
    "papermill": {
     "duration": 3.604206,
     "end_time": "2020-11-18T10:42:51.232409",
     "exception": false,
     "start_time": "2020-11-18T10:42:47.628203",
     "status": "completed"
    },
    "tags": []
   },
   "outputs": [],
   "source": [
    "!pip install seaborn > /dev/null 2>&1"
   ]
  },
  {
   "cell_type": "code",
   "execution_count": null,
   "metadata": {
    "papermill": {
     "duration": 2.313344,
     "end_time": "2020-11-18T10:42:53.586078",
     "exception": false,
     "start_time": "2020-11-18T10:42:51.272734",
     "status": "completed"
    },
    "tags": []
   },
   "outputs": [],
   "source": [
    "# Define required imports\n",
    "import pandas as pd\n",
    "import numpy as np\n",
    "import seaborn as sns\n",
    "import matplotlib.pyplot as plt\n",
    "sns.set_theme(style='darkgrid', palette='deep')\n",
    "# These set pandas max column and row display in the notebook\n",
    "pd.set_option('display.max_columns', 50)\n",
    "pd.set_option('display.max_rows', 50)"
   ]
  },
  {
   "cell_type": "markdown",
   "metadata": {
    "papermill": {
     "duration": 0.042908,
     "end_time": "2020-11-18T10:42:53.674690",
     "exception": false,
     "start_time": "2020-11-18T10:42:53.631782",
     "status": "completed"
    },
    "tags": []
   },
   "source": [
    "### Read the data\n",
    "\n",
    "We start by reading in the merged flight delay and weather data"
   ]
  },
  {
   "cell_type": "code",
   "execution_count": null,
   "metadata": {
    "papermill": {
     "duration": 0.138328,
     "end_time": "2020-11-18T10:42:53.857510",
     "exception": false,
     "start_time": "2020-11-18T10:42:53.719182",
     "status": "completed"
    },
    "tags": []
   },
   "outputs": [],
   "source": [
    "flight_path = 'data/jfk_flight_weather_features.csv'\n",
    "flight_data = pd.read_csv(flight_path, parse_dates=['flight_date'])\n",
    "flight_data.head()"
   ]
  },
  {
   "cell_type": "markdown",
   "metadata": {
    "papermill": {
     "duration": 0.024233,
     "end_time": "2020-11-18T10:42:53.906192",
     "exception": false,
     "start_time": "2020-11-18T10:42:53.881959",
     "status": "completed"
    },
    "tags": []
   },
   "source": [
    "### Analyze the data\n",
    "\n",
    "Now we will analyze the data to see if we can gain insight into flight delays.\n",
    "\n",
    "Let's start by looking at the overall proportion of flights that are delayed."
   ]
  },
  {
   "cell_type": "code",
   "execution_count": null,
   "metadata": {
    "papermill": {
     "duration": 0.21334,
     "end_time": "2020-11-18T10:42:54.143379",
     "exception": false,
     "start_time": "2020-11-18T10:42:53.930039",
     "status": "completed"
    },
    "tags": []
   },
   "outputs": [],
   "source": [
    "vc = flight_data['delayed'].value_counts()\n",
    "perc = vc / sum(vc)\n",
    "print('On-time: {:.2f}%'.format(perc[0] * 100))\n",
    "print('Delayed: {:.2f}%'.format(perc[1] * 100))\n",
    "plt.figure(figsize=(8, 6))\n",
    "chart = sns.countplot(data=flight_data, x='delayed')\n",
    "chart.set_xticklabels(['On-time', 'Delayed'])\n",
    "chart.set_xlabel('Flight status')\n",
    "plt.show()"
   ]
  },
  {
   "cell_type": "markdown",
   "metadata": {
    "papermill": {
     "duration": 0.030623,
     "end_time": "2020-11-18T10:42:54.195654",
     "exception": false,
     "start_time": "2020-11-18T10:42:54.165031",
     "status": "completed"
    },
    "tags": []
   },
   "source": [
    "We see 80% of flights are on-time. Still, a fairly high proportion of 20% of flights are delayed - recall delayed here means more than 15 minutes late!"
   ]
  },
  {
   "cell_type": "markdown",
   "metadata": {
    "papermill": {
     "duration": 0.04472,
     "end_time": "2020-11-18T10:42:54.270571",
     "exception": false,
     "start_time": "2020-11-18T10:42:54.225851",
     "status": "completed"
    },
    "tags": []
   },
   "source": [
    "#### Analyze and visualize flight delay durations\n",
    "Next, we will plot the flight delay (in minutes) over time."
   ]
  },
  {
   "cell_type": "code",
   "execution_count": null,
   "metadata": {
    "papermill": {
     "duration": 0.686545,
     "end_time": "2020-11-18T10:42:55.005326",
     "exception": false,
     "start_time": "2020-11-18T10:42:54.318781",
     "status": "completed"
    },
    "tags": []
   },
   "outputs": [],
   "source": [
    "plt.figure(figsize=(16, 6))\n",
    "chart = sns.scatterplot(x='flight_date', y='dep_delay', data=flight_data)\n",
    "plt.show()"
   ]
  },
  {
   "cell_type": "markdown",
   "metadata": {
    "papermill": {
     "duration": 0.036333,
     "end_time": "2020-11-18T10:42:55.080494",
     "exception": false,
     "start_time": "2020-11-18T10:42:55.044161",
     "status": "completed"
    },
    "tags": []
   },
   "source": [
    "There doesn't appear to be any obvious relationship. It is worth noting that most flight delay lengths are very low (clustered around zero), with a relatively small number of very large values (i.e. _outliers_). This may tend to skew analysis based on, for example, analyzing the _average_ flight delay duration. This also consistent with our proportion analysis above.\n",
    "\n",
    "Let's look at whether flight delays are impacted by the day of the week:"
   ]
  },
  {
   "cell_type": "code",
   "execution_count": null,
   "metadata": {
    "papermill": {
     "duration": 1.367749,
     "end_time": "2020-11-18T10:42:56.495574",
     "exception": false,
     "start_time": "2020-11-18T10:42:55.127825",
     "status": "completed"
    },
    "tags": []
   },
   "outputs": [],
   "source": [
    "plt.figure(figsize=(16, 6))\n",
    "days = ['Monday', 'Tuesday', 'Wednesday', 'Thursday', 'Friday', 'Saturday', 'Sunday']\n",
    "chart = sns.barplot(x='day_of_week', y='dep_delay', data=flight_data)\n",
    "chart.set_xticklabels(days)\n",
    "chart.set_xlabel('Day of Week')\n",
    "chart.set_ylabel('Departure Delay (min)')\n",
    "chart.set_title('Distribution of departure delay by day of week')\n",
    "plt.show()"
   ]
  },
  {
   "cell_type": "markdown",
   "metadata": {
    "papermill": {
     "duration": 0.035542,
     "end_time": "2020-11-18T10:42:56.574443",
     "exception": false,
     "start_time": "2020-11-18T10:42:56.538901",
     "status": "completed"
    },
    "tags": []
   },
   "source": [
    "This chart shows the average and confidence interval (standard deviation) for flight delays, grouped by day of week. It appears from the chart that Monday, Friday and Sunday are the worst days to fly, with respect to the average flight delay. Perhaps this is due to a larger volume of flights on those days? We can in fact check this by plotting the total number of flights per weekday in the dataset."
   ]
  },
  {
   "cell_type": "code",
   "execution_count": null,
   "metadata": {
    "papermill": {
     "duration": 0.382649,
     "end_time": "2020-11-18T10:42:57.008464",
     "exception": false,
     "start_time": "2020-11-18T10:42:56.625815",
     "status": "completed"
    },
    "tags": []
   },
   "outputs": [],
   "source": [
    "plt.figure(figsize=(16, 6))\n",
    "chart = sns.countplot(x='day_of_week', data=flight_data)\n",
    "chart.set_xticklabels(days)\n",
    "chart.set_xlabel('Day of Week')\n",
    "chart.set_ylabel('Number of flights')\n",
    "chart.set_title('Flights by day of week')\n",
    "plt.show()"
   ]
  },
  {
   "cell_type": "markdown",
   "metadata": {
    "papermill": {
     "duration": 0.031438,
     "end_time": "2020-11-18T10:42:57.070642",
     "exception": false,
     "start_time": "2020-11-18T10:42:57.039204",
     "status": "completed"
    },
    "tags": []
   },
   "source": [
    "There doesn't appear to be an obvious correlation between volume of flights and which days experience larger flight delays.\n",
    "\n",
    "**Note** however, that we are not taking into account volumes of arriving flights in this analysis, which may have an impact!\n",
    "\n",
    "Recall that the flight delay data appeared to have many outlier values. This means the distribution of flight delays is very skewed. We should take a look at a view that takes this into account:"
   ]
  },
  {
   "cell_type": "code",
   "execution_count": null,
   "metadata": {
    "papermill": {
     "duration": 0.582665,
     "end_time": "2020-11-18T10:42:57.683888",
     "exception": false,
     "start_time": "2020-11-18T10:42:57.101223",
     "status": "completed"
    },
    "tags": []
   },
   "outputs": [],
   "source": [
    "plt.figure(figsize=(16, 6))\n",
    "days = ['Monday', 'Tuesday', 'Wednesday', 'Thursday', 'Friday', 'Saturday', 'Sunday']\n",
    "chart = sns.boxenplot(x='day_of_week', y='dep_delay', data=flight_data)\n",
    "chart.set_xticklabels(days)\n",
    "chart.set_xlabel('Day of Week')\n",
    "chart.set_ylabel('Departure Delay (min)')\n",
    "chart.set_title('Distribution of departure delay by day of week')\n",
    "plt.show()"
   ]
  },
  {
   "cell_type": "markdown",
   "metadata": {
    "papermill": {
     "duration": 0.059778,
     "end_time": "2020-11-18T10:42:57.800830",
     "exception": false,
     "start_time": "2020-11-18T10:42:57.741052",
     "status": "completed"
    },
    "tags": []
   },
   "source": [
    "The above chart shows a more detailed distribution of the flight delay for each weekday. This shows that Monday and Friday definitey have some extremely large outlier values that play a role in their higher average flight delays.\n",
    "\n",
    "We can also see that Friday and Sunday have \"wider\" and \"higher\" blocks at moderately higher flight delay levels. This contributes to the higher average flight delays and tells us that outliers alone are not fully to blame for the higher average delays on these days.\n",
    "\n",
    "It is usually wise to dig a bit deeper when visualizing skewed or imbalanced datasets. "
   ]
  },
  {
   "cell_type": "markdown",
   "metadata": {
    "papermill": {
     "duration": 0.04439,
     "end_time": "2020-11-18T10:42:57.890880",
     "exception": false,
     "start_time": "2020-11-18T10:42:57.846490",
     "status": "completed"
    },
    "tags": []
   },
   "source": [
    "#### Analyze and visualize flight delay proportions for flight features\n",
    "Next, we will analyze the proportion of flights that are delayed, for given sets of features in our dataset related to the **flight** itself. Since we wish to build a classifier, this analysis can help us to understand which features may be indicative of greater probability of a flight delay and which features have little impact.\n",
    "\n",
    "First, we will define a convenience function to create our stacked proportion charts:"
   ]
  },
  {
   "cell_type": "code",
   "execution_count": null,
   "metadata": {
    "papermill": {
     "duration": 0.072936,
     "end_time": "2020-11-18T10:42:58.043088",
     "exception": false,
     "start_time": "2020-11-18T10:42:57.970152",
     "status": "completed"
    },
    "tags": []
   },
   "outputs": [],
   "source": [
    "def plot_stacked_by_col(col, x_label, rotation=0, horizontalalignment='center', xticks=None):\n",
    "    grouped = flight_data['delayed'].groupby(flight_data[col]).value_counts()\n",
    "    g = grouped.groupby(level=0).apply(lambda x: 100 * x / float(x.sum()))\n",
    "\n",
    "    chart = g.unstack().plot(kind='bar', stacked=True, figsize=(16, 6))\n",
    "    chart.set_xticklabels(\n",
    "        xticks if xticks else chart.get_xticklabels(),\n",
    "        rotation=rotation, \n",
    "        horizontalalignment=horizontalalignment,\n",
    "        fontweight='light',\n",
    "        fontsize='medium'\n",
    "    )\n",
    "    chart.set_xlabel(x_label)\n",
    "    chart.set_ylabel('Proportion delayed')\n",
    "    chart.set_title('Proportion of flights delayed, by {}'.format(x_label))\n",
    "    plt.show()"
   ]
  },
  {
   "cell_type": "markdown",
   "metadata": {
    "papermill": {
     "duration": 0.0663,
     "end_time": "2020-11-18T10:42:58.160817",
     "exception": false,
     "start_time": "2020-11-18T10:42:58.094517",
     "status": "completed"
    },
    "tags": []
   },
   "source": [
    "Let's start by analyzing proportion of flights delayed by weekday, continuing the theme of our analsis above."
   ]
  },
  {
   "cell_type": "code",
   "execution_count": null,
   "metadata": {
    "papermill": {
     "duration": 0.716892,
     "end_time": "2020-11-18T10:42:58.944322",
     "exception": false,
     "start_time": "2020-11-18T10:42:58.227430",
     "status": "completed"
    },
    "tags": []
   },
   "outputs": [],
   "source": [
    "plot_stacked_by_col('day_of_week', 'Day of Week', xticks=days)"
   ]
  },
  {
   "cell_type": "markdown",
   "metadata": {
    "papermill": {
     "duration": 0.041598,
     "end_time": "2020-11-18T10:42:59.039796",
     "exception": false,
     "start_time": "2020-11-18T10:42:58.998198",
     "status": "completed"
    },
    "tags": []
   },
   "source": [
    "This chart roughly matches the delay duration charts above, with Monday, Friday and Sunday having the highest proportion of delayed flights, while Tuesday and Wednesday are the \"best\" days. This indicates that day of the week may be at least somewhat useful for predicting flight delays.\n",
    "\n",
    "Next, we plot the proportions by departure time (where departure times are grouped into hourly buckets, with the exception of a larger bucket for \"early morning flights\")."
   ]
  },
  {
   "cell_type": "code",
   "execution_count": null,
   "metadata": {
    "papermill": {
     "duration": 1.05987,
     "end_time": "2020-11-18T10:43:00.138704",
     "exception": false,
     "start_time": "2020-11-18T10:42:59.078834",
     "status": "completed"
    },
    "tags": []
   },
   "outputs": [],
   "source": [
    "plot_stacked_by_col('dep_time_bin', 'Departure Time Bucket', rotation=45, horizontalalignment='right')"
   ]
  },
  {
   "cell_type": "markdown",
   "metadata": {
    "papermill": {
     "duration": 0.042265,
     "end_time": "2020-11-18T10:43:00.211480",
     "exception": false,
     "start_time": "2020-11-18T10:43:00.169215",
     "status": "completed"
    },
    "tags": []
   },
   "source": [
    "It seems clear that flights later in the day have a generally higher chance of being delayed, relative to flights in the morning (and especially early morning). Perhaps this is related to flight volumes - are flight volumes lower in the early morning?\n",
    "\n",
    "Again, we can check this by plotting the number of flights per departure time bucket."
   ]
  },
  {
   "cell_type": "code",
   "execution_count": null,
   "metadata": {
    "papermill": {
     "duration": 0.552196,
     "end_time": "2020-11-18T10:43:00.795416",
     "exception": false,
     "start_time": "2020-11-18T10:43:00.243220",
     "status": "completed"
    },
    "tags": []
   },
   "outputs": [],
   "source": [
    "plt.figure(figsize=(16, 6))\n",
    "chart = sns.countplot(\n",
    "    x='dep_time_bin',\n",
    "    data=flight_data,\n",
    "    order=flight_data.groupby(flight_data['dep_time_bin']).groups.keys())\n",
    "chart.set_xticklabels(\n",
    "    chart.get_xticklabels(),\n",
    "    rotation=45, \n",
    "    horizontalalignment='right',\n",
    "    fontweight='light',\n",
    "    fontsize='medium'\n",
    ")\n",
    "chart.set_xlabel('Departure Time Bucket')\n",
    "chart.set_ylabel('Count')\n",
    "chart.set_title('Flights by Departure Time Bucket')\n",
    "plt.show()"
   ]
  },
  {
   "cell_type": "markdown",
   "metadata": {
    "papermill": {
     "duration": 0.048324,
     "end_time": "2020-11-18T10:43:00.878107",
     "exception": false,
     "start_time": "2020-11-18T10:43:00.829783",
     "status": "completed"
    },
    "tags": []
   },
   "source": [
    "While there are definitely relatively fewer very early flights, there are more flights in the early morning, and these are less likely to be delayed than afternoon flights, depsite flight volumes being similar between the two groups. Also, there are relatively lower volumes of late night flights, while these are relatively more likely to be delayed. So, flight volumes don't seem to play much of a role.\n",
    "\n",
    "**Note** however, that we are not taking into account volumes of arriving flights in this analysis, which may have an impact!\n",
    "\n",
    "Next, let's see if a particular airline's flights are more likely to be delayed."
   ]
  },
  {
   "cell_type": "code",
   "execution_count": null,
   "metadata": {
    "papermill": {
     "duration": 0.663351,
     "end_time": "2020-11-18T10:43:01.579032",
     "exception": false,
     "start_time": "2020-11-18T10:43:00.915681",
     "status": "completed"
    },
    "tags": []
   },
   "outputs": [],
   "source": [
    "plot_stacked_by_col('airline_name', 'Airline', rotation=45, horizontalalignment='right')"
   ]
  },
  {
   "cell_type": "markdown",
   "metadata": {
    "papermill": {
     "duration": 0.075645,
     "end_time": "2020-11-18T10:43:01.736584",
     "exception": false,
     "start_time": "2020-11-18T10:43:01.660939",
     "status": "completed"
    },
    "tags": []
   },
   "source": [
    "It seems like the airline does have some impact on delay proportion (note volumes for some smaller airlines may be quite low due to sampling). How about flight destination?"
   ]
  },
  {
   "cell_type": "code",
   "execution_count": null,
   "metadata": {
    "papermill": {
     "duration": 4.987105,
     "end_time": "2020-11-18T10:43:06.793705",
     "exception": false,
     "start_time": "2020-11-18T10:43:01.806600",
     "status": "completed"
    },
    "tags": []
   },
   "outputs": [],
   "source": [
    "plot_stacked_by_col('dest', 'Destination Airport', rotation=65, horizontalalignment='right')"
   ]
  },
  {
   "cell_type": "markdown",
   "metadata": {
    "papermill": {
     "duration": 0.054271,
     "end_time": "2020-11-18T10:43:06.893444",
     "exception": false,
     "start_time": "2020-11-18T10:43:06.839173",
     "status": "completed"
    },
    "tags": []
   },
   "source": [
    "Again, it appears there is a relationship between proportion of flights delayed and the flight destination (the same caveats with respect to sampled data as mentioned above, would apply here).\n",
    "\n",
    "Finally, what about flight distance?"
   ]
  },
  {
   "cell_type": "code",
   "execution_count": null,
   "metadata": {
    "papermill": {
     "duration": 0.705268,
     "end_time": "2020-11-18T10:43:07.647698",
     "exception": false,
     "start_time": "2020-11-18T10:43:06.942430",
     "status": "completed"
    },
    "tags": []
   },
   "outputs": [],
   "source": [
    "plot_stacked_by_col('distance_bin', 'Distance Bin', rotation=0, horizontalalignment='center')"
   ]
  },
  {
   "cell_type": "markdown",
   "metadata": {
    "papermill": {
     "duration": 0.043425,
     "end_time": "2020-11-18T10:43:07.737420",
     "exception": false,
     "start_time": "2020-11-18T10:43:07.693995",
     "status": "completed"
    },
    "tags": []
   },
   "source": [
    "It seems like there may be some relationship, though it's not particlarly clear - shorter flights and longer flights tend to have roughly similar proportions."
   ]
  },
  {
   "cell_type": "markdown",
   "metadata": {
    "papermill": {
     "duration": 0.039239,
     "end_time": "2020-11-18T10:43:07.828689",
     "exception": false,
     "start_time": "2020-11-18T10:43:07.789450",
     "status": "completed"
    },
    "tags": []
   },
   "source": [
    "#### Analyze and visualize flight delay proportions for weather features\n",
    "Now, we will analyze the proportion of flights that are delayed, for given sets of **weather** features in our dataset."
   ]
  },
  {
   "cell_type": "code",
   "execution_count": null,
   "metadata": {
    "papermill": {
     "duration": 0.852436,
     "end_time": "2020-11-18T10:43:08.721519",
     "exception": false,
     "start_time": "2020-11-18T10:43:07.869083",
     "status": "completed"
    },
    "tags": []
   },
   "outputs": [],
   "source": [
    "# create sub-plots for a few weather conditions\n",
    "\n",
    "ax = plt.subplot(221)\n",
    "grouped = flight_data['delayed'].groupby(flight_data['drizzle']).value_counts()\n",
    "g = grouped.groupby(level=0).apply(lambda x: 100 * x / float(x.sum()))\n",
    "chart = g.unstack().plot(kind='bar', stacked=True, figsize=(18, 10), ax=ax)\n",
    "chart.set_xticklabels(['No', 'Yes'], rotation=0)\n",
    "chart.set_xlabel('Drizzle')\n",
    "chart.set_ylabel('Proportion delayed')\n",
    "\n",
    "ax = plt.subplot(222)\n",
    "grouped = flight_data['delayed'].groupby(flight_data['mist']).value_counts()\n",
    "g = grouped.groupby(level=0).apply(lambda x: 100 * x / float(x.sum()))\n",
    "chart = g.unstack().plot(kind='bar', stacked=True, figsize=(18, 10), ax=ax)\n",
    "chart.set_xticklabels(['No', 'Yes'], rotation=0)\n",
    "chart.set_xlabel('Mist')\n",
    "chart.set_ylabel('Proportion delayed')\n",
    "\n",
    "ax = plt.subplot(223)\n",
    "grouped = flight_data['delayed'].groupby(flight_data['snow']).value_counts()\n",
    "g = grouped.groupby(level=0).apply(lambda x: 100 * x / float(x.sum()))\n",
    "chart = g.unstack().plot(kind='bar', stacked=True, figsize=(18, 10), ax=ax)\n",
    "chart.set_xticklabels(['No', 'Yes'], rotation=0)\n",
    "chart.set_xlabel('Snow')\n",
    "chart.set_ylabel('Proportion delayed')\n",
    "\n",
    "ax = plt.subplot(224)\n",
    "grouped = flight_data['delayed'].groupby(flight_data['thunderstorm']).value_counts()\n",
    "g = grouped.groupby(level=0).apply(lambda x: 100 * x / float(x.sum()))\n",
    "chart = g.unstack().plot(kind='bar', stacked=True, figsize=(18, 10), ax=ax)\n",
    "chart.set_xticklabels(['No', 'Yes'], rotation=0)\n",
    "chart.set_xlabel('Thunderstorm')\n",
    "chart.set_ylabel('Proportion delayed')\n",
    "\n",
    "plt.show()"
   ]
  },
  {
   "cell_type": "markdown",
   "metadata": {
    "papermill": {
     "duration": 0.04203,
     "end_time": "2020-11-18T10:43:08.797469",
     "exception": false,
     "start_time": "2020-11-18T10:43:08.755439",
     "status": "completed"
    },
    "tags": []
   },
   "source": [
    "From these charts, it appears that the presence of \"drizzle\" does not impact on whether a flight is likely to be delayed - as we might expect. However, if there is snow or a thunderstorm, for example, it appears flight delays are much more likely.\n",
    "\n",
    "We have touched on only a little of the analysis of weather features that could be performed. For example, one could explore more of the weather conditions similarly to the cell above; or investigate the potential relationship between features such as `visibility`, `wind_speed` and `precip` to both proportions of flights delayed as well as duration of flight delays. "
   ]
  },
  {
   "cell_type": "markdown",
   "metadata": {
    "papermill": {
     "duration": 0.051397,
     "end_time": "2020-11-18T10:43:08.896930",
     "exception": false,
     "start_time": "2020-11-18T10:43:08.845533",
     "status": "completed"
    },
    "tags": []
   },
   "source": [
    "<a id=\"authors\"></a> \n",
    "### Authors"
   ]
  },
  {
   "cell_type": "markdown",
   "metadata": {
    "papermill": {
     "duration": 0.073045,
     "end_time": "2020-11-18T10:43:09.014783",
     "exception": false,
     "start_time": "2020-11-18T10:43:08.941738",
     "status": "completed"
    },
    "tags": []
   },
   "source": [
    "This notebook was created by the [Center for Open-Source Data & AI Technologies](http://codait.org).\n",
    "\n",
    "Copyright © 2019 IBM. This notebook and its source code are released under the terms of the MIT License."
   ]
  }
 ],
 "metadata": {
  "kernelspec": {
   "display_name": "Python 3",
   "language": "python",
   "name": "python3"
  },
  "language_info": {
   "codemirror_mode": {
    "name": "ipython",
    "version": 3
   },
   "file_extension": ".py",
   "mimetype": "text/x-python",
   "name": "python",
   "nbconvert_exporter": "python",
   "pygments_lexer": "ipython3",
   "version": "3.7.9"
  },
  "papermill": {
   "duration": 23.694453,
   "end_time": "2020-11-18T10:43:09.616322",
   "environment_variables": {},
   "exception": null,
   "input_path": "/Users/nick/workspace/python/flight-delay-notebooks/notebooks/analyze_flight_delays.ipynb",
   "output_path": "/Users/nick/workspace/python/flight-delay-notebooks/notebooks/analyze_flight_delays.ipynb",
   "parameters": {},
   "start_time": "2020-11-18T10:42:45.921869",
   "version": "2.1.1"
  },
  "toc-autonumbering": false,
  "toc-showcode": false,
  "toc-showmarkdowntxt": false,
  "toc-showtags": false
 },
 "nbformat": 4,
 "nbformat_minor": 4
}
