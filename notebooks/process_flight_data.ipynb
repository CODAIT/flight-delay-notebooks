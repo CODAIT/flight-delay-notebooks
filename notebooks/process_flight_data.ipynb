{
 "cells": [
  {
   "cell_type": "markdown",
   "metadata": {
    "papermill": {
     "duration": 0.012298,
     "end_time": "2020-11-18T10:41:24.439638",
     "exception": false,
     "start_time": "2020-11-18T10:41:24.427340",
     "status": "completed"
    },
    "tags": []
   },
   "source": [
    "# Processing the Airline Reporting Carrier On-Time Performance Dataset\n",
    "\n",
    "This notebook relates to the Airline Reporting Carrier On-Time Performance Dataset. The dataset  contains information on approximately 200 million domestic US flights reported to the United States Bureau of Transportation Statistics, from 1987 - 2020. This dataset is freely available from the IBM Developer [Data Asset Exchange](https://developer.ibm.com/exchanges/data/all/airline/).\n",
    "\n",
    "**Note** the full dataset is very large (over 80GB uncompressed), so here we work with a smaller sample dataset containing a total of 2 million rows.\n",
    "\n",
    "In this notebook, we process the raw dataset by:\n",
    "* selecting the columns we wish to keep for later analysis\n",
    "* converting and cleaning data where required\n",
    "* handling missing values\n",
    "\n",
    "#### Import required modules\n",
    "\n",
    "Import and configure the required modules."
   ]
  },
  {
   "cell_type": "code",
   "execution_count": null,
   "metadata": {
    "papermill": {
     "duration": 0.020919,
     "end_time": "2020-11-18T10:41:24.474707",
     "exception": false,
     "start_time": "2020-11-18T10:41:24.453788",
     "status": "completed"
    },
    "tags": []
   },
   "outputs": [],
   "source": [
    "# !pip install pandas > /dev/null 2>&1"
   ]
  },
  {
   "cell_type": "code",
   "execution_count": null,
   "metadata": {
    "papermill": {
     "duration": 0.938723,
     "end_time": "2020-11-18T10:41:25.426277",
     "exception": false,
     "start_time": "2020-11-18T10:41:24.487554",
     "status": "completed"
    },
    "tags": []
   },
   "outputs": [],
   "source": [
    "# Define required imports\n",
    "import pandas as pd\n",
    "# These set pandas max column and row display in the notebook\n",
    "pd.set_option('display.max_columns', 50)\n",
    "pd.set_option('display.max_rows', 50)"
   ]
  },
  {
   "cell_type": "markdown",
   "metadata": {
    "papermill": {
     "duration": 0.023472,
     "end_time": "2020-11-18T10:41:25.467588",
     "exception": false,
     "start_time": "2020-11-18T10:41:25.444116",
     "status": "completed"
    },
    "tags": []
   },
   "source": [
    "### Read the Raw Data\n",
    "\n",
    "We start by reading in the raw dataset and displaying the first few rows of the dataframe."
   ]
  },
  {
   "cell_type": "code",
   "execution_count": null,
   "metadata": {
    "papermill": {
     "duration": 51.607155,
     "end_time": "2020-11-18T10:42:17.099275",
     "exception": false,
     "start_time": "2020-11-18T10:41:25.492120",
     "status": "completed"
    },
    "tags": []
   },
   "outputs": [],
   "source": [
    "data_path = 'data/airline_2m.csv'\n",
    "raw_data = pd.read_csv(data_path, encoding = \"ISO-8859-1\", parse_dates=['FlightDate'],\n",
    "                 dtype={'Div1Airport': str, 'Div1TailNum': str, 'Div2Airport': str, 'Div2TailNum': str})\n",
    "raw_data.head()"
   ]
  },
  {
   "cell_type": "markdown",
   "metadata": {
    "papermill": {
     "duration": 0.02727,
     "end_time": "2020-11-18T10:42:17.155366",
     "exception": false,
     "start_time": "2020-11-18T10:42:17.128096",
     "status": "completed"
    },
    "tags": []
   },
   "source": [
    "### Clean the Data\n",
    "\n",
    "Fortunately, the airline delay dataset is relatively clean already! The fields we wish to use already represent variables such as unique codes for the airline, origin and destination. There are also fields representing binned variables for departure time slot and flight distance.\n",
    "\n",
    "We will select a subset of the data relating to years 2010-2017, with origin airport `JFK`, to match our weather data. For simplicity, we will focus on delayed flights and ignore flight cancellations. We will ignore arrival delays, hence we will be focusing on predicting \"departure delays\" _from JFK_ to other destinations, using the field `DepDel15`. This is a binary value indicating whether the flight was delayed by more than 15 minutes (deemed to be `delayed`) or not (deemed to be `on time`)."
   ]
  },
  {
   "cell_type": "code",
   "execution_count": null,
   "metadata": {
    "papermill": {
     "duration": 6.760619,
     "end_time": "2020-11-18T10:42:23.945236",
     "exception": false,
     "start_time": "2020-11-18T10:42:17.184617",
     "status": "completed"
    },
    "tags": []
   },
   "outputs": [],
   "source": [
    "# Select the data sub-set for years 2010-2017 for flights originating from JFK\n",
    "jfk_flights = raw_data.copy()\n",
    "jfk_flights = jfk_flights[(jfk_flights['Origin'] == 'JFK') & (jfk_flights['Year'].isin(range(2010, 2018))) & (jfk_flights['Cancelled'] == 0)]\n",
    "jfk_flights.head()"
   ]
  },
  {
   "cell_type": "markdown",
   "metadata": {
    "papermill": {
     "duration": 0.020117,
     "end_time": "2020-11-18T10:42:23.994662",
     "exception": false,
     "start_time": "2020-11-18T10:42:23.974545",
     "status": "completed"
    },
    "tags": []
   },
   "source": [
    "We create a mapping of airline id to a more readable airline name (see the [airline ID looukp table](https://www.transtats.bts.gov/Download_Lookup.asp?Lookup=L_AIRLINE_ID))."
   ]
  },
  {
   "cell_type": "code",
   "execution_count": null,
   "metadata": {
    "papermill": {
     "duration": 0.039415,
     "end_time": "2020-11-18T10:42:24.057478",
     "exception": false,
     "start_time": "2020-11-18T10:42:24.018063",
     "status": "completed"
    },
    "tags": []
   },
   "outputs": [],
   "source": [
    "airline_codes = {\n",
    "    20409: 'JetBlue',\n",
    "    19790: 'Delta',\n",
    "    19805: 'American Airlines',\n",
    "    20398: 'Envoy Air',\n",
    "    19977: 'United',\n",
    "    21171: 'Virgin America',\n",
    "    20363: 'Endeavor Air',\n",
    "    20417: 'Comair',\n",
    "    20355: 'US Airways',\n",
    "    20366: 'ExpressJet',\n",
    "    19690: 'Hawaiian Airlines',\n",
    "    19930: 'Alaska Airlines',\n",
    "    20378: 'Mesa Airlines'\n",
    "}"
   ]
  },
  {
   "cell_type": "code",
   "execution_count": null,
   "metadata": {
    "papermill": {
     "duration": 0.075155,
     "end_time": "2020-11-18T10:42:24.154423",
     "exception": false,
     "start_time": "2020-11-18T10:42:24.079268",
     "status": "completed"
    },
    "tags": []
   },
   "outputs": [],
   "source": [
    "jfk_flights.loc[:, 'airline_name'] = jfk_flights['DOT_ID_Reporting_Airline'].map(lambda x: airline_codes[x])"
   ]
  },
  {
   "cell_type": "markdown",
   "metadata": {
    "papermill": {
     "duration": 0.015748,
     "end_time": "2020-11-18T10:42:24.188117",
     "exception": false,
     "start_time": "2020-11-18T10:42:24.172369",
     "status": "completed"
    },
    "tags": []
   },
   "source": [
    "Next, we select the set of columns to keep for downstream analysis and rename the columns to `snake_case` for consistency with our processed weather dataset."
   ]
  },
  {
   "cell_type": "code",
   "execution_count": null,
   "metadata": {
    "papermill": {
     "duration": 0.061216,
     "end_time": "2020-11-18T10:42:24.265686",
     "exception": false,
     "start_time": "2020-11-18T10:42:24.204470",
     "status": "completed"
    },
    "tags": []
   },
   "outputs": [],
   "source": [
    "cols_to_keep = ['FlightDate', 'Month', 'DayofMonth', 'DayOfWeek', 'DOT_ID_Reporting_Airline', 'airline_name', 'Origin', 'Dest', 'CRSDepTime', 'DepTimeBlk', 'DistanceGroup', 'DepDel15', 'DepDelay']\n",
    "jfk_flights = jfk_flights[cols_to_keep]\n",
    "col_names = {\n",
    "    'FlightDate': 'flight_date',\n",
    "    'Month': 'month',\n",
    "    'DayofMonth': 'day_of_month',\n",
    "    'DayOfWeek': 'day_of_week',\n",
    "    'DOT_ID_Reporting_Airline': 'airline_id',\n",
    "    'Origin': 'origin',\n",
    "    'Dest': 'dest',\n",
    "    'CRSDepTime': 'sched_dep_time',\n",
    "    'DepTimeBlk': 'dep_time_bin',\n",
    "    'DistanceGroup': 'distance_bin',\n",
    "    'DepDel15': 'delayed',\n",
    "    'DepDelay': 'dep_delay'\n",
    "}\n",
    "jfk_flights_renamed = jfk_flights.rename(columns=col_names)\n",
    "jfk_flights_renamed.head()"
   ]
  },
  {
   "cell_type": "code",
   "execution_count": null,
   "metadata": {
    "papermill": {
     "duration": 0.043619,
     "end_time": "2020-11-18T10:42:24.324809",
     "exception": false,
     "start_time": "2020-11-18T10:42:24.281190",
     "status": "completed"
    },
    "tags": []
   },
   "outputs": [],
   "source": [
    "# Log some general information about the dataset\n",
    "print('# of columns: ' + str(jfk_flights_renamed.shape[1])) \n",
    "print('# of observations: ' + str(jfk_flights_renamed.shape[0]))\n",
    "print('Start date: ' + str(jfk_flights_renamed['flight_date'].min()))\n",
    "print('End date: ' + str(jfk_flights_renamed['flight_date'].max()))"
   ]
  },
  {
   "cell_type": "markdown",
   "metadata": {
    "papermill": {
     "duration": 0.020485,
     "end_time": "2020-11-18T10:42:24.374384",
     "exception": false,
     "start_time": "2020-11-18T10:42:24.353899",
     "status": "completed"
    },
    "tags": []
   },
   "source": [
    "### Save the Processed Data\n",
    "\n",
    "Finally, we save the processed dataset for use by downstream tasks."
   ]
  },
  {
   "cell_type": "code",
   "execution_count": null,
   "metadata": {
    "papermill": {
     "duration": 0.245405,
     "end_time": "2020-11-18T10:42:24.638852",
     "exception": false,
     "start_time": "2020-11-18T10:42:24.393447",
     "status": "completed"
    },
    "tags": []
   },
   "outputs": [],
   "source": [
    "jfk_flights_renamed.to_csv('data/jfk_flight_features.csv', index=False, float_format='%g')"
   ]
  },
  {
   "cell_type": "markdown",
   "metadata": {
    "papermill": {
     "duration": 0.027191,
     "end_time": "2020-11-18T10:42:24.695646",
     "exception": false,
     "start_time": "2020-11-18T10:42:24.668455",
     "status": "completed"
    },
    "tags": []
   },
   "source": [
    " ### Authors\n",
    " \n",
    " This notebook was created by the [Center for Open-Source Data & AI Technologies](http://codait.org).\n",
    "\n",
    "Copyright © 2020 IBM. This notebook and its source code are released under the terms of the MIT License."
   ]
  }
 ],
 "metadata": {
  "kernelspec": {
   "display_name": "Python 3",
   "language": "python",
   "name": "python3"
  },
  "language_info": {
   "codemirror_mode": {
    "name": "ipython",
    "version": 3
   },
   "file_extension": ".py",
   "mimetype": "text/x-python",
   "name": "python",
   "nbconvert_exporter": "python",
   "pygments_lexer": "ipython3",
   "version": "3.7.9"
  },
  "papermill": {
   "duration": 62.871732,
   "end_time": "2020-11-18T10:42:25.559608",
   "environment_variables": {},
   "exception": null,
   "input_path": "/Users/nick/workspace/python/flight-delay-notebooks/notebooks/process_flight_data.ipynb",
   "output_path": "/Users/nick/workspace/python/flight-delay-notebooks/notebooks/process_flight_data.ipynb",
   "parameters": {},
   "start_time": "2020-11-18T10:41:22.687876",
   "version": "2.1.1"
  },
  "toc-autonumbering": false,
  "toc-showcode": false,
  "toc-showmarkdowntxt": false,
  "toc-showtags": false
 },
 "nbformat": 4,
 "nbformat_minor": 4
}
