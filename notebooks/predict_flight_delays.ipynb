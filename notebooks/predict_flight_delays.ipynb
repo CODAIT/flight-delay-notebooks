{
 "cells": [
  {
   "cell_type": "markdown",
   "metadata": {
    "papermill": {
     "duration": 0.053002,
     "end_time": "2020-11-18T08:18:12.450160",
     "exception": false,
     "start_time": "2020-11-18T08:18:12.397158",
     "status": "completed"
    },
    "tags": []
   },
   "source": [
    "# Predicting Flight Delays\n",
    "\n",
    "In this notebook, we use the combined flight delay and weather data we have created to create and evaluate models to predict flight delays.\n",
    "\n",
    "**Note** the full flight delay dataset is very large (over 80GB uncompressed), so we are working with a smaller sample dataset. Hence our results may not be a true reflection of the results on the full dataset.\n",
    "\n",
    "#### Import required modules\n",
    "\n",
    "Import and configure the required modules."
   ]
  },
  {
   "cell_type": "code",
   "execution_count": 1,
   "metadata": {
    "execution": {
     "iopub.execute_input": "2020-11-18T08:18:12.540949Z",
     "iopub.status.busy": "2020-11-18T08:18:12.539268Z",
     "iopub.status.idle": "2020-11-18T08:18:16.205897Z",
     "shell.execute_reply": "2020-11-18T08:18:16.206611Z"
    },
    "papermill": {
     "duration": 3.717824,
     "end_time": "2020-11-18T08:18:16.207145",
     "exception": false,
     "start_time": "2020-11-18T08:18:12.489321",
     "status": "completed"
    },
    "tags": []
   },
   "outputs": [],
   "source": [
    "!pip install seaborn scikit-learn > /dev/null 2>&1"
   ]
  },
  {
   "cell_type": "code",
   "execution_count": 2,
   "metadata": {
    "execution": {
     "iopub.execute_input": "2020-11-18T08:18:16.311605Z",
     "iopub.status.busy": "2020-11-18T08:18:16.309785Z",
     "iopub.status.idle": "2020-11-18T08:18:18.169131Z",
     "shell.execute_reply": "2020-11-18T08:18:18.170601Z"
    },
    "papermill": {
     "duration": 1.921122,
     "end_time": "2020-11-18T08:18:18.171162",
     "exception": false,
     "start_time": "2020-11-18T08:18:16.250040",
     "status": "completed"
    },
    "tags": []
   },
   "outputs": [],
   "source": [
    "# Define required imports\n",
    "import json\n",
    "import pandas as pd\n",
    "import numpy as np\n",
    "import seaborn as sns\n",
    "import matplotlib.pyplot as plt\n",
    "sns.set_theme(style='darkgrid', palette='deep')\n",
    "# These set pandas max column and row display in the notebook\n",
    "pd.set_option('display.max_columns', 50)\n",
    "pd.set_option('display.max_rows', 50)"
   ]
  },
  {
   "cell_type": "code",
   "execution_count": 3,
   "metadata": {
    "execution": {
     "iopub.execute_input": "2020-11-18T08:18:18.277229Z",
     "iopub.status.busy": "2020-11-18T08:18:18.275381Z",
     "iopub.status.idle": "2020-11-18T08:18:18.279035Z",
     "shell.execute_reply": "2020-11-18T08:18:18.280193Z"
    },
    "papermill": {
     "duration": 0.055266,
     "end_time": "2020-11-18T08:18:18.281074",
     "exception": false,
     "start_time": "2020-11-18T08:18:18.225808",
     "status": "completed"
    },
    "tags": []
   },
   "outputs": [],
   "source": [
    "MODEL_EXPORT_FOLDER = 'models'\n",
    "from pathlib import Path\n",
    "export_path = Path(MODEL_EXPORT_FOLDER)\n",
    "export_path.mkdir(parents=True, exist_ok=True)"
   ]
  },
  {
   "cell_type": "markdown",
   "metadata": {
    "papermill": {
     "duration": 0.027518,
     "end_time": "2020-11-18T08:18:18.349536",
     "exception": false,
     "start_time": "2020-11-18T08:18:18.322018",
     "status": "completed"
    },
    "tags": []
   },
   "source": [
    "### Read the data\n",
    "\n",
    "We start by reading in the merged flight delay and weather data"
   ]
  },
  {
   "cell_type": "code",
   "execution_count": 4,
   "metadata": {
    "execution": {
     "iopub.execute_input": "2020-11-18T08:18:18.447014Z",
     "iopub.status.busy": "2020-11-18T08:18:18.444618Z",
     "iopub.status.idle": "2020-11-18T08:18:18.520632Z",
     "shell.execute_reply": "2020-11-18T08:18:18.521849Z"
    },
    "papermill": {
     "duration": 0.134193,
     "end_time": "2020-11-18T08:18:18.522170",
     "exception": false,
     "start_time": "2020-11-18T08:18:18.387977",
     "status": "completed"
    },
    "tags": []
   },
   "outputs": [
    {
     "data": {
      "text/html": [
       "<div>\n",
       "<style scoped>\n",
       "    .dataframe tbody tr th:only-of-type {\n",
       "        vertical-align: middle;\n",
       "    }\n",
       "\n",
       "    .dataframe tbody tr th {\n",
       "        vertical-align: top;\n",
       "    }\n",
       "\n",
       "    .dataframe thead th {\n",
       "        text-align: right;\n",
       "    }\n",
       "</style>\n",
       "<table border=\"1\" class=\"dataframe\">\n",
       "  <thead>\n",
       "    <tr style=\"text-align: right;\">\n",
       "      <th></th>\n",
       "      <th>flight_date</th>\n",
       "      <th>month</th>\n",
       "      <th>day_of_month</th>\n",
       "      <th>day_of_week</th>\n",
       "      <th>airline_id</th>\n",
       "      <th>airline_name</th>\n",
       "      <th>origin</th>\n",
       "      <th>dest</th>\n",
       "      <th>sched_dep_time</th>\n",
       "      <th>dep_time_bin</th>\n",
       "      <th>distance_bin</th>\n",
       "      <th>delayed</th>\n",
       "      <th>dep_delay</th>\n",
       "      <th>hour_key</th>\n",
       "      <th>date_key</th>\n",
       "      <th>DATE</th>\n",
       "      <th>visibility</th>\n",
       "      <th>weather_type_raw</th>\n",
       "      <th>wind_speed</th>\n",
       "      <th>wind_gust_speed</th>\n",
       "      <th>precip</th>\n",
       "      <th>rain</th>\n",
       "      <th>ice_pellets</th>\n",
       "      <th>mist</th>\n",
       "      <th>snow</th>\n",
       "      <th>drizzle</th>\n",
       "      <th>haze</th>\n",
       "      <th>fog</th>\n",
       "      <th>thunderstorm</th>\n",
       "      <th>smoke</th>\n",
       "      <th>unknown_precipitation</th>\n",
       "    </tr>\n",
       "  </thead>\n",
       "  <tbody>\n",
       "    <tr>\n",
       "      <th>0</th>\n",
       "      <td>2015-03-17</td>\n",
       "      <td>3</td>\n",
       "      <td>17</td>\n",
       "      <td>2</td>\n",
       "      <td>20409</td>\n",
       "      <td>JetBlue</td>\n",
       "      <td>JFK</td>\n",
       "      <td>RSW</td>\n",
       "      <td>1525</td>\n",
       "      <td>1500-1559</td>\n",
       "      <td>5</td>\n",
       "      <td>0</td>\n",
       "      <td>-7</td>\n",
       "      <td>14</td>\n",
       "      <td>2015-03-17</td>\n",
       "      <td>2015-03-17 14:51:00</td>\n",
       "      <td>10.0</td>\n",
       "      <td>NaN</td>\n",
       "      <td>30</td>\n",
       "      <td>9</td>\n",
       "      <td>0.0</td>\n",
       "      <td>0</td>\n",
       "      <td>0</td>\n",
       "      <td>0</td>\n",
       "      <td>0</td>\n",
       "      <td>0</td>\n",
       "      <td>0</td>\n",
       "      <td>0</td>\n",
       "      <td>0</td>\n",
       "      <td>0</td>\n",
       "      <td>0</td>\n",
       "    </tr>\n",
       "    <tr>\n",
       "      <th>1</th>\n",
       "      <td>2016-05-25</td>\n",
       "      <td>5</td>\n",
       "      <td>25</td>\n",
       "      <td>3</td>\n",
       "      <td>20409</td>\n",
       "      <td>JetBlue</td>\n",
       "      <td>JFK</td>\n",
       "      <td>SJU</td>\n",
       "      <td>2119</td>\n",
       "      <td>2100-2159</td>\n",
       "      <td>7</td>\n",
       "      <td>0</td>\n",
       "      <td>0</td>\n",
       "      <td>20</td>\n",
       "      <td>2016-05-25</td>\n",
       "      <td>2016-05-25 20:51:00</td>\n",
       "      <td>10.0</td>\n",
       "      <td>NaN</td>\n",
       "      <td>11</td>\n",
       "      <td>0</td>\n",
       "      <td>0.0</td>\n",
       "      <td>0</td>\n",
       "      <td>0</td>\n",
       "      <td>0</td>\n",
       "      <td>0</td>\n",
       "      <td>0</td>\n",
       "      <td>0</td>\n",
       "      <td>0</td>\n",
       "      <td>0</td>\n",
       "      <td>0</td>\n",
       "      <td>0</td>\n",
       "    </tr>\n",
       "    <tr>\n",
       "      <th>2</th>\n",
       "      <td>2017-07-26</td>\n",
       "      <td>7</td>\n",
       "      <td>26</td>\n",
       "      <td>3</td>\n",
       "      <td>19805</td>\n",
       "      <td>American Airlines</td>\n",
       "      <td>JFK</td>\n",
       "      <td>SFO</td>\n",
       "      <td>700</td>\n",
       "      <td>0700-0759</td>\n",
       "      <td>11</td>\n",
       "      <td>0</td>\n",
       "      <td>-3</td>\n",
       "      <td>6</td>\n",
       "      <td>2017-07-26</td>\n",
       "      <td>2017-07-26 06:51:00</td>\n",
       "      <td>10.0</td>\n",
       "      <td>NaN</td>\n",
       "      <td>7</td>\n",
       "      <td>0</td>\n",
       "      <td>0.0</td>\n",
       "      <td>0</td>\n",
       "      <td>0</td>\n",
       "      <td>0</td>\n",
       "      <td>0</td>\n",
       "      <td>0</td>\n",
       "      <td>0</td>\n",
       "      <td>0</td>\n",
       "      <td>0</td>\n",
       "      <td>0</td>\n",
       "      <td>0</td>\n",
       "    </tr>\n",
       "    <tr>\n",
       "      <th>3</th>\n",
       "      <td>2010-12-11</td>\n",
       "      <td>12</td>\n",
       "      <td>11</td>\n",
       "      <td>6</td>\n",
       "      <td>20409</td>\n",
       "      <td>JetBlue</td>\n",
       "      <td>JFK</td>\n",
       "      <td>LAS</td>\n",
       "      <td>1900</td>\n",
       "      <td>1900-1959</td>\n",
       "      <td>9</td>\n",
       "      <td>0</td>\n",
       "      <td>-5</td>\n",
       "      <td>18</td>\n",
       "      <td>2010-12-11</td>\n",
       "      <td>2010-12-11 18:51:00</td>\n",
       "      <td>10.0</td>\n",
       "      <td>NaN</td>\n",
       "      <td>3</td>\n",
       "      <td>0</td>\n",
       "      <td>0.0</td>\n",
       "      <td>0</td>\n",
       "      <td>0</td>\n",
       "      <td>0</td>\n",
       "      <td>0</td>\n",
       "      <td>0</td>\n",
       "      <td>0</td>\n",
       "      <td>0</td>\n",
       "      <td>0</td>\n",
       "      <td>0</td>\n",
       "      <td>0</td>\n",
       "    </tr>\n",
       "    <tr>\n",
       "      <th>4</th>\n",
       "      <td>2012-08-11</td>\n",
       "      <td>8</td>\n",
       "      <td>11</td>\n",
       "      <td>6</td>\n",
       "      <td>20398</td>\n",
       "      <td>Envoy Air</td>\n",
       "      <td>JFK</td>\n",
       "      <td>IND</td>\n",
       "      <td>1510</td>\n",
       "      <td>1500-1559</td>\n",
       "      <td>3</td>\n",
       "      <td>0</td>\n",
       "      <td>-2</td>\n",
       "      <td>14</td>\n",
       "      <td>2012-08-11</td>\n",
       "      <td>2012-08-11 14:51:00</td>\n",
       "      <td>10.0</td>\n",
       "      <td>NaN</td>\n",
       "      <td>18</td>\n",
       "      <td>0</td>\n",
       "      <td>0.0</td>\n",
       "      <td>0</td>\n",
       "      <td>0</td>\n",
       "      <td>0</td>\n",
       "      <td>0</td>\n",
       "      <td>0</td>\n",
       "      <td>0</td>\n",
       "      <td>0</td>\n",
       "      <td>0</td>\n",
       "      <td>0</td>\n",
       "      <td>0</td>\n",
       "    </tr>\n",
       "  </tbody>\n",
       "</table>\n",
       "</div>"
      ],
      "text/plain": [
       "  flight_date  month  day_of_month  day_of_week  airline_id  \\\n",
       "0  2015-03-17      3            17            2       20409   \n",
       "1  2016-05-25      5            25            3       20409   \n",
       "2  2017-07-26      7            26            3       19805   \n",
       "3  2010-12-11     12            11            6       20409   \n",
       "4  2012-08-11      8            11            6       20398   \n",
       "\n",
       "        airline_name origin dest  sched_dep_time dep_time_bin  distance_bin  \\\n",
       "0            JetBlue    JFK  RSW            1525    1500-1559             5   \n",
       "1            JetBlue    JFK  SJU            2119    2100-2159             7   \n",
       "2  American Airlines    JFK  SFO             700    0700-0759            11   \n",
       "3            JetBlue    JFK  LAS            1900    1900-1959             9   \n",
       "4          Envoy Air    JFK  IND            1510    1500-1559             3   \n",
       "\n",
       "   delayed  dep_delay  hour_key    date_key                 DATE  visibility  \\\n",
       "0        0         -7        14  2015-03-17  2015-03-17 14:51:00        10.0   \n",
       "1        0          0        20  2016-05-25  2016-05-25 20:51:00        10.0   \n",
       "2        0         -3         6  2017-07-26  2017-07-26 06:51:00        10.0   \n",
       "3        0         -5        18  2010-12-11  2010-12-11 18:51:00        10.0   \n",
       "4        0         -2        14  2012-08-11  2012-08-11 14:51:00        10.0   \n",
       "\n",
       "  weather_type_raw  wind_speed  wind_gust_speed  precip  rain  ice_pellets  \\\n",
       "0              NaN          30                9     0.0     0            0   \n",
       "1              NaN          11                0     0.0     0            0   \n",
       "2              NaN           7                0     0.0     0            0   \n",
       "3              NaN           3                0     0.0     0            0   \n",
       "4              NaN          18                0     0.0     0            0   \n",
       "\n",
       "   mist  snow  drizzle  haze  fog  thunderstorm  smoke  unknown_precipitation  \n",
       "0     0     0        0     0    0             0      0                      0  \n",
       "1     0     0        0     0    0             0      0                      0  \n",
       "2     0     0        0     0    0             0      0                      0  \n",
       "3     0     0        0     0    0             0      0                      0  \n",
       "4     0     0        0     0    0             0      0                      0  "
      ]
     },
     "execution_count": 4,
     "metadata": {},
     "output_type": "execute_result"
    }
   ],
   "source": [
    "flight_path = 'data/jfk_flight_weather_features.csv'\n",
    "flight_data = pd.read_csv(flight_path, parse_dates=['flight_date'])\n",
    "flight_data.head()"
   ]
  },
  {
   "cell_type": "code",
   "execution_count": 5,
   "metadata": {
    "execution": {
     "iopub.execute_input": "2020-11-18T08:18:18.603527Z",
     "iopub.status.busy": "2020-11-18T08:18:18.602030Z",
     "iopub.status.idle": "2020-11-18T08:18:18.607167Z",
     "shell.execute_reply": "2020-11-18T08:18:18.607968Z"
    },
    "papermill": {
     "duration": 0.053971,
     "end_time": "2020-11-18T08:18:18.608393",
     "exception": false,
     "start_time": "2020-11-18T08:18:18.554422",
     "status": "completed"
    },
    "tags": []
   },
   "outputs": [
    {
     "data": {
      "text/plain": [
       "IAH    5\n",
       "BGR    4\n",
       "HYA    3\n",
       "MKE    3\n",
       "DAB    2\n",
       "ALB    2\n",
       "PSP    2\n",
       "BDL    2\n",
       "TUS    2\n",
       "BHM    1\n",
       "Name: dest, dtype: int64"
      ]
     },
     "execution_count": 5,
     "metadata": {},
     "output_type": "execute_result"
    }
   ],
   "source": [
    "flight_data['dest'].value_counts().tail(10)"
   ]
  },
  {
   "cell_type": "code",
   "execution_count": 6,
   "metadata": {
    "execution": {
     "iopub.execute_input": "2020-11-18T08:18:18.694407Z",
     "iopub.status.busy": "2020-11-18T08:18:18.692857Z",
     "iopub.status.idle": "2020-11-18T08:18:18.763321Z",
     "shell.execute_reply": "2020-11-18T08:18:18.764486Z"
    },
    "papermill": {
     "duration": 0.121395,
     "end_time": "2020-11-18T08:18:18.764911",
     "exception": false,
     "start_time": "2020-11-18T08:18:18.643516",
     "status": "completed"
    },
    "tags": []
   },
   "outputs": [
    {
     "data": {
      "text/html": [
       "<div>\n",
       "<style scoped>\n",
       "    .dataframe tbody tr th:only-of-type {\n",
       "        vertical-align: middle;\n",
       "    }\n",
       "\n",
       "    .dataframe tbody tr th {\n",
       "        vertical-align: top;\n",
       "    }\n",
       "\n",
       "    .dataframe thead th {\n",
       "        text-align: right;\n",
       "    }\n",
       "</style>\n",
       "<table border=\"1\" class=\"dataframe\">\n",
       "  <thead>\n",
       "    <tr style=\"text-align: right;\">\n",
       "      <th></th>\n",
       "      <th>flight_date</th>\n",
       "      <th>month</th>\n",
       "      <th>day_of_month</th>\n",
       "      <th>day_of_week</th>\n",
       "      <th>airline_id</th>\n",
       "      <th>airline_name</th>\n",
       "      <th>origin</th>\n",
       "      <th>dest</th>\n",
       "      <th>sched_dep_time</th>\n",
       "      <th>dep_time_bin</th>\n",
       "      <th>distance_bin</th>\n",
       "      <th>delayed</th>\n",
       "      <th>dep_delay</th>\n",
       "      <th>hour_key</th>\n",
       "      <th>date_key</th>\n",
       "      <th>DATE</th>\n",
       "      <th>visibility</th>\n",
       "      <th>weather_type_raw</th>\n",
       "      <th>wind_speed</th>\n",
       "      <th>wind_gust_speed</th>\n",
       "      <th>precip</th>\n",
       "      <th>rain</th>\n",
       "      <th>ice_pellets</th>\n",
       "      <th>mist</th>\n",
       "      <th>snow</th>\n",
       "      <th>drizzle</th>\n",
       "      <th>haze</th>\n",
       "      <th>fog</th>\n",
       "      <th>thunderstorm</th>\n",
       "      <th>smoke</th>\n",
       "      <th>unknown_precipitation</th>\n",
       "    </tr>\n",
       "  </thead>\n",
       "  <tbody>\n",
       "    <tr>\n",
       "      <th>0</th>\n",
       "      <td>2015-03-17</td>\n",
       "      <td>3</td>\n",
       "      <td>17</td>\n",
       "      <td>2</td>\n",
       "      <td>20409</td>\n",
       "      <td>JetBlue</td>\n",
       "      <td>JFK</td>\n",
       "      <td>RSW</td>\n",
       "      <td>1525</td>\n",
       "      <td>1500-1559</td>\n",
       "      <td>5</td>\n",
       "      <td>0</td>\n",
       "      <td>-7</td>\n",
       "      <td>14</td>\n",
       "      <td>2015-03-17</td>\n",
       "      <td>2015-03-17 14:51:00</td>\n",
       "      <td>10.0</td>\n",
       "      <td>NaN</td>\n",
       "      <td>30</td>\n",
       "      <td>9</td>\n",
       "      <td>0.0</td>\n",
       "      <td>0</td>\n",
       "      <td>0</td>\n",
       "      <td>0</td>\n",
       "      <td>0</td>\n",
       "      <td>0</td>\n",
       "      <td>0</td>\n",
       "      <td>0</td>\n",
       "      <td>0</td>\n",
       "      <td>0</td>\n",
       "      <td>0</td>\n",
       "    </tr>\n",
       "    <tr>\n",
       "      <th>1</th>\n",
       "      <td>2016-05-25</td>\n",
       "      <td>5</td>\n",
       "      <td>25</td>\n",
       "      <td>3</td>\n",
       "      <td>20409</td>\n",
       "      <td>JetBlue</td>\n",
       "      <td>JFK</td>\n",
       "      <td>SJU</td>\n",
       "      <td>2119</td>\n",
       "      <td>2100-2159</td>\n",
       "      <td>7</td>\n",
       "      <td>0</td>\n",
       "      <td>0</td>\n",
       "      <td>20</td>\n",
       "      <td>2016-05-25</td>\n",
       "      <td>2016-05-25 20:51:00</td>\n",
       "      <td>10.0</td>\n",
       "      <td>NaN</td>\n",
       "      <td>11</td>\n",
       "      <td>0</td>\n",
       "      <td>0.0</td>\n",
       "      <td>0</td>\n",
       "      <td>0</td>\n",
       "      <td>0</td>\n",
       "      <td>0</td>\n",
       "      <td>0</td>\n",
       "      <td>0</td>\n",
       "      <td>0</td>\n",
       "      <td>0</td>\n",
       "      <td>0</td>\n",
       "      <td>0</td>\n",
       "    </tr>\n",
       "    <tr>\n",
       "      <th>2</th>\n",
       "      <td>2017-07-26</td>\n",
       "      <td>7</td>\n",
       "      <td>26</td>\n",
       "      <td>3</td>\n",
       "      <td>19805</td>\n",
       "      <td>American Airlines</td>\n",
       "      <td>JFK</td>\n",
       "      <td>SFO</td>\n",
       "      <td>700</td>\n",
       "      <td>0700-0759</td>\n",
       "      <td>11</td>\n",
       "      <td>0</td>\n",
       "      <td>-3</td>\n",
       "      <td>6</td>\n",
       "      <td>2017-07-26</td>\n",
       "      <td>2017-07-26 06:51:00</td>\n",
       "      <td>10.0</td>\n",
       "      <td>NaN</td>\n",
       "      <td>7</td>\n",
       "      <td>0</td>\n",
       "      <td>0.0</td>\n",
       "      <td>0</td>\n",
       "      <td>0</td>\n",
       "      <td>0</td>\n",
       "      <td>0</td>\n",
       "      <td>0</td>\n",
       "      <td>0</td>\n",
       "      <td>0</td>\n",
       "      <td>0</td>\n",
       "      <td>0</td>\n",
       "      <td>0</td>\n",
       "    </tr>\n",
       "    <tr>\n",
       "      <th>3</th>\n",
       "      <td>2010-12-11</td>\n",
       "      <td>12</td>\n",
       "      <td>11</td>\n",
       "      <td>6</td>\n",
       "      <td>20409</td>\n",
       "      <td>JetBlue</td>\n",
       "      <td>JFK</td>\n",
       "      <td>LAS</td>\n",
       "      <td>1900</td>\n",
       "      <td>1900-1959</td>\n",
       "      <td>9</td>\n",
       "      <td>0</td>\n",
       "      <td>-5</td>\n",
       "      <td>18</td>\n",
       "      <td>2010-12-11</td>\n",
       "      <td>2010-12-11 18:51:00</td>\n",
       "      <td>10.0</td>\n",
       "      <td>NaN</td>\n",
       "      <td>3</td>\n",
       "      <td>0</td>\n",
       "      <td>0.0</td>\n",
       "      <td>0</td>\n",
       "      <td>0</td>\n",
       "      <td>0</td>\n",
       "      <td>0</td>\n",
       "      <td>0</td>\n",
       "      <td>0</td>\n",
       "      <td>0</td>\n",
       "      <td>0</td>\n",
       "      <td>0</td>\n",
       "      <td>0</td>\n",
       "    </tr>\n",
       "    <tr>\n",
       "      <th>4</th>\n",
       "      <td>2012-08-11</td>\n",
       "      <td>8</td>\n",
       "      <td>11</td>\n",
       "      <td>6</td>\n",
       "      <td>20398</td>\n",
       "      <td>Envoy Air</td>\n",
       "      <td>JFK</td>\n",
       "      <td>IND</td>\n",
       "      <td>1510</td>\n",
       "      <td>1500-1559</td>\n",
       "      <td>3</td>\n",
       "      <td>0</td>\n",
       "      <td>-2</td>\n",
       "      <td>14</td>\n",
       "      <td>2012-08-11</td>\n",
       "      <td>2012-08-11 14:51:00</td>\n",
       "      <td>10.0</td>\n",
       "      <td>NaN</td>\n",
       "      <td>18</td>\n",
       "      <td>0</td>\n",
       "      <td>0.0</td>\n",
       "      <td>0</td>\n",
       "      <td>0</td>\n",
       "      <td>0</td>\n",
       "      <td>0</td>\n",
       "      <td>0</td>\n",
       "      <td>0</td>\n",
       "      <td>0</td>\n",
       "      <td>0</td>\n",
       "      <td>0</td>\n",
       "      <td>0</td>\n",
       "    </tr>\n",
       "    <tr>\n",
       "      <th>...</th>\n",
       "      <td>...</td>\n",
       "      <td>...</td>\n",
       "      <td>...</td>\n",
       "      <td>...</td>\n",
       "      <td>...</td>\n",
       "      <td>...</td>\n",
       "      <td>...</td>\n",
       "      <td>...</td>\n",
       "      <td>...</td>\n",
       "      <td>...</td>\n",
       "      <td>...</td>\n",
       "      <td>...</td>\n",
       "      <td>...</td>\n",
       "      <td>...</td>\n",
       "      <td>...</td>\n",
       "      <td>...</td>\n",
       "      <td>...</td>\n",
       "      <td>...</td>\n",
       "      <td>...</td>\n",
       "      <td>...</td>\n",
       "      <td>...</td>\n",
       "      <td>...</td>\n",
       "      <td>...</td>\n",
       "      <td>...</td>\n",
       "      <td>...</td>\n",
       "      <td>...</td>\n",
       "      <td>...</td>\n",
       "      <td>...</td>\n",
       "      <td>...</td>\n",
       "      <td>...</td>\n",
       "      <td>...</td>\n",
       "    </tr>\n",
       "    <tr>\n",
       "      <th>8093</th>\n",
       "      <td>2016-08-17</td>\n",
       "      <td>8</td>\n",
       "      <td>17</td>\n",
       "      <td>3</td>\n",
       "      <td>19790</td>\n",
       "      <td>Delta</td>\n",
       "      <td>JFK</td>\n",
       "      <td>SFO</td>\n",
       "      <td>810</td>\n",
       "      <td>0800-0859</td>\n",
       "      <td>11</td>\n",
       "      <td>0</td>\n",
       "      <td>-1</td>\n",
       "      <td>7</td>\n",
       "      <td>2016-08-17</td>\n",
       "      <td>2016-08-17 07:51:00</td>\n",
       "      <td>10.0</td>\n",
       "      <td>NaN</td>\n",
       "      <td>14</td>\n",
       "      <td>11</td>\n",
       "      <td>0.0</td>\n",
       "      <td>0</td>\n",
       "      <td>0</td>\n",
       "      <td>0</td>\n",
       "      <td>0</td>\n",
       "      <td>0</td>\n",
       "      <td>0</td>\n",
       "      <td>0</td>\n",
       "      <td>0</td>\n",
       "      <td>0</td>\n",
       "      <td>0</td>\n",
       "    </tr>\n",
       "    <tr>\n",
       "      <th>8094</th>\n",
       "      <td>2014-04-25</td>\n",
       "      <td>4</td>\n",
       "      <td>25</td>\n",
       "      <td>5</td>\n",
       "      <td>19790</td>\n",
       "      <td>Delta</td>\n",
       "      <td>JFK</td>\n",
       "      <td>FLL</td>\n",
       "      <td>815</td>\n",
       "      <td>0800-0859</td>\n",
       "      <td>5</td>\n",
       "      <td>0</td>\n",
       "      <td>-2</td>\n",
       "      <td>7</td>\n",
       "      <td>2014-04-25</td>\n",
       "      <td>2014-04-25 07:51:00</td>\n",
       "      <td>10.0</td>\n",
       "      <td>NaN</td>\n",
       "      <td>7</td>\n",
       "      <td>0</td>\n",
       "      <td>0.0</td>\n",
       "      <td>0</td>\n",
       "      <td>0</td>\n",
       "      <td>0</td>\n",
       "      <td>0</td>\n",
       "      <td>0</td>\n",
       "      <td>0</td>\n",
       "      <td>0</td>\n",
       "      <td>0</td>\n",
       "      <td>0</td>\n",
       "      <td>0</td>\n",
       "    </tr>\n",
       "    <tr>\n",
       "      <th>8095</th>\n",
       "      <td>2016-08-22</td>\n",
       "      <td>8</td>\n",
       "      <td>22</td>\n",
       "      <td>1</td>\n",
       "      <td>20409</td>\n",
       "      <td>JetBlue</td>\n",
       "      <td>JFK</td>\n",
       "      <td>LAS</td>\n",
       "      <td>2018</td>\n",
       "      <td>2000-2059</td>\n",
       "      <td>9</td>\n",
       "      <td>0</td>\n",
       "      <td>4</td>\n",
       "      <td>19</td>\n",
       "      <td>2016-08-22</td>\n",
       "      <td>2016-08-22 19:51:00</td>\n",
       "      <td>10.0</td>\n",
       "      <td>NaN</td>\n",
       "      <td>18</td>\n",
       "      <td>7</td>\n",
       "      <td>0.0</td>\n",
       "      <td>0</td>\n",
       "      <td>0</td>\n",
       "      <td>0</td>\n",
       "      <td>0</td>\n",
       "      <td>0</td>\n",
       "      <td>0</td>\n",
       "      <td>0</td>\n",
       "      <td>0</td>\n",
       "      <td>0</td>\n",
       "      <td>0</td>\n",
       "    </tr>\n",
       "    <tr>\n",
       "      <th>8096</th>\n",
       "      <td>2014-09-14</td>\n",
       "      <td>9</td>\n",
       "      <td>14</td>\n",
       "      <td>7</td>\n",
       "      <td>19790</td>\n",
       "      <td>Delta</td>\n",
       "      <td>JFK</td>\n",
       "      <td>AUS</td>\n",
       "      <td>755</td>\n",
       "      <td>0700-0759</td>\n",
       "      <td>7</td>\n",
       "      <td>0</td>\n",
       "      <td>-1</td>\n",
       "      <td>6</td>\n",
       "      <td>2014-09-14</td>\n",
       "      <td>2014-09-14 06:51:00</td>\n",
       "      <td>10.0</td>\n",
       "      <td>NaN</td>\n",
       "      <td>14</td>\n",
       "      <td>0</td>\n",
       "      <td>0.0</td>\n",
       "      <td>0</td>\n",
       "      <td>0</td>\n",
       "      <td>0</td>\n",
       "      <td>0</td>\n",
       "      <td>0</td>\n",
       "      <td>0</td>\n",
       "      <td>0</td>\n",
       "      <td>0</td>\n",
       "      <td>0</td>\n",
       "      <td>0</td>\n",
       "    </tr>\n",
       "    <tr>\n",
       "      <th>8097</th>\n",
       "      <td>2016-07-14</td>\n",
       "      <td>7</td>\n",
       "      <td>14</td>\n",
       "      <td>4</td>\n",
       "      <td>19690</td>\n",
       "      <td>Hawaiian Airlines</td>\n",
       "      <td>JFK</td>\n",
       "      <td>HNL</td>\n",
       "      <td>1000</td>\n",
       "      <td>1000-1059</td>\n",
       "      <td>11</td>\n",
       "      <td>0</td>\n",
       "      <td>-7</td>\n",
       "      <td>9</td>\n",
       "      <td>2016-07-14</td>\n",
       "      <td>2016-07-14 09:51:00</td>\n",
       "      <td>10.0</td>\n",
       "      <td>NaN</td>\n",
       "      <td>10</td>\n",
       "      <td>0</td>\n",
       "      <td>0.0</td>\n",
       "      <td>0</td>\n",
       "      <td>0</td>\n",
       "      <td>0</td>\n",
       "      <td>0</td>\n",
       "      <td>0</td>\n",
       "      <td>0</td>\n",
       "      <td>0</td>\n",
       "      <td>0</td>\n",
       "      <td>0</td>\n",
       "      <td>0</td>\n",
       "    </tr>\n",
       "  </tbody>\n",
       "</table>\n",
       "<p>8081 rows × 31 columns</p>\n",
       "</div>"
      ],
      "text/plain": [
       "     flight_date  month  day_of_month  day_of_week  airline_id  \\\n",
       "0     2015-03-17      3            17            2       20409   \n",
       "1     2016-05-25      5            25            3       20409   \n",
       "2     2017-07-26      7            26            3       19805   \n",
       "3     2010-12-11     12            11            6       20409   \n",
       "4     2012-08-11      8            11            6       20398   \n",
       "...          ...    ...           ...          ...         ...   \n",
       "8093  2016-08-17      8            17            3       19790   \n",
       "8094  2014-04-25      4            25            5       19790   \n",
       "8095  2016-08-22      8            22            1       20409   \n",
       "8096  2014-09-14      9            14            7       19790   \n",
       "8097  2016-07-14      7            14            4       19690   \n",
       "\n",
       "           airline_name origin dest  sched_dep_time dep_time_bin  \\\n",
       "0               JetBlue    JFK  RSW            1525    1500-1559   \n",
       "1               JetBlue    JFK  SJU            2119    2100-2159   \n",
       "2     American Airlines    JFK  SFO             700    0700-0759   \n",
       "3               JetBlue    JFK  LAS            1900    1900-1959   \n",
       "4             Envoy Air    JFK  IND            1510    1500-1559   \n",
       "...                 ...    ...  ...             ...          ...   \n",
       "8093              Delta    JFK  SFO             810    0800-0859   \n",
       "8094              Delta    JFK  FLL             815    0800-0859   \n",
       "8095            JetBlue    JFK  LAS            2018    2000-2059   \n",
       "8096              Delta    JFK  AUS             755    0700-0759   \n",
       "8097  Hawaiian Airlines    JFK  HNL            1000    1000-1059   \n",
       "\n",
       "      distance_bin  delayed  dep_delay  hour_key    date_key  \\\n",
       "0                5        0         -7        14  2015-03-17   \n",
       "1                7        0          0        20  2016-05-25   \n",
       "2               11        0         -3         6  2017-07-26   \n",
       "3                9        0         -5        18  2010-12-11   \n",
       "4                3        0         -2        14  2012-08-11   \n",
       "...            ...      ...        ...       ...         ...   \n",
       "8093            11        0         -1         7  2016-08-17   \n",
       "8094             5        0         -2         7  2014-04-25   \n",
       "8095             9        0          4        19  2016-08-22   \n",
       "8096             7        0         -1         6  2014-09-14   \n",
       "8097            11        0         -7         9  2016-07-14   \n",
       "\n",
       "                     DATE  visibility weather_type_raw  wind_speed  \\\n",
       "0     2015-03-17 14:51:00        10.0              NaN          30   \n",
       "1     2016-05-25 20:51:00        10.0              NaN          11   \n",
       "2     2017-07-26 06:51:00        10.0              NaN           7   \n",
       "3     2010-12-11 18:51:00        10.0              NaN           3   \n",
       "4     2012-08-11 14:51:00        10.0              NaN          18   \n",
       "...                   ...         ...              ...         ...   \n",
       "8093  2016-08-17 07:51:00        10.0              NaN          14   \n",
       "8094  2014-04-25 07:51:00        10.0              NaN           7   \n",
       "8095  2016-08-22 19:51:00        10.0              NaN          18   \n",
       "8096  2014-09-14 06:51:00        10.0              NaN          14   \n",
       "8097  2016-07-14 09:51:00        10.0              NaN          10   \n",
       "\n",
       "      wind_gust_speed  precip  rain  ice_pellets  mist  snow  drizzle  haze  \\\n",
       "0                   9     0.0     0            0     0     0        0     0   \n",
       "1                   0     0.0     0            0     0     0        0     0   \n",
       "2                   0     0.0     0            0     0     0        0     0   \n",
       "3                   0     0.0     0            0     0     0        0     0   \n",
       "4                   0     0.0     0            0     0     0        0     0   \n",
       "...               ...     ...   ...          ...   ...   ...      ...   ...   \n",
       "8093               11     0.0     0            0     0     0        0     0   \n",
       "8094                0     0.0     0            0     0     0        0     0   \n",
       "8095                7     0.0     0            0     0     0        0     0   \n",
       "8096                0     0.0     0            0     0     0        0     0   \n",
       "8097                0     0.0     0            0     0     0        0     0   \n",
       "\n",
       "      fog  thunderstorm  smoke  unknown_precipitation  \n",
       "0       0             0      0                      0  \n",
       "1       0             0      0                      0  \n",
       "2       0             0      0                      0  \n",
       "3       0             0      0                      0  \n",
       "4       0             0      0                      0  \n",
       "...   ...           ...    ...                    ...  \n",
       "8093    0             0      0                      0  \n",
       "8094    0             0      0                      0  \n",
       "8095    0             0      0                      0  \n",
       "8096    0             0      0                      0  \n",
       "8097    0             0      0                      0  \n",
       "\n",
       "[8081 rows x 31 columns]"
      ]
     },
     "execution_count": 6,
     "metadata": {},
     "output_type": "execute_result"
    }
   ],
   "source": [
    "flight_data['dest'].value_counts().tail(10)\n",
    "dest_to_drop = ['MKE', 'HYA', 'ALB', 'PSP', 'BDL', 'TUS', 'DAB', 'BHM']\n",
    "flight_data[flight_data['dest'].isin(dest_to_drop)]\n",
    "flight_data.drop(flight_data[flight_data['dest'].isin(dest_to_drop)].index, inplace=True)\n",
    "flight_data"
   ]
  },
  {
   "cell_type": "markdown",
   "metadata": {
    "papermill": {
     "duration": 0.051147,
     "end_time": "2020-11-18T08:18:18.865199",
     "exception": false,
     "start_time": "2020-11-18T08:18:18.814052",
     "status": "completed"
    },
    "tags": []
   },
   "source": [
    "### Create train / test data split\n",
    "\n",
    "The first step in building our models is to split the dataset into training and test sets. We use a portion of the data for training, and another portion of data for our test sets.\n",
    "\n",
    "If we instead trained a model on the full dataset, the model would learn to be very good at making predictions on that particular dataset, essentially just copying the answers it knows. However, when presented with data the model has not seen , it would perform poorly since it has not learned how to generalize its answers.\n",
    "\n",
    "By training on a portion of the dataset and testing the model's performance on another portion of the dataset (which data the model has not seen in training), we try to avoid our models \"over-fitting\" the dataset and make them better at prediction when given unseen, future data. This process of splitting the dataset and evaluating a model's performance on \"held-out\" datasets is commonly known as _cross-validation_.\n",
    "\n",
    "By default here we use 80% of the data for the training set and 20% for the test set.\n",
    "\n",
    "**Note** for simplicity here we perform a random split. Technically, we have some time-dependent information leakage, since for earlier records, the model can use data from the future in training. In reality, a model at that point in time would not have information about the future available for training. For a better evaluation of the model performance on fully unseen, new data, the test set should be generated from _future_ data occurring after the time window in the training set."
   ]
  },
  {
   "cell_type": "code",
   "execution_count": 7,
   "metadata": {
    "execution": {
     "iopub.execute_input": "2020-11-18T08:18:18.955208Z",
     "iopub.status.busy": "2020-11-18T08:18:18.954043Z",
     "iopub.status.idle": "2020-11-18T08:18:19.850231Z",
     "shell.execute_reply": "2020-11-18T08:18:19.853123Z"
    },
    "papermill": {
     "duration": 0.945373,
     "end_time": "2020-11-18T08:18:19.854199",
     "exception": false,
     "start_time": "2020-11-18T08:18:18.908826",
     "status": "completed"
    },
    "tags": []
   },
   "outputs": [],
   "source": [
    "from sklearn.model_selection import train_test_split\n",
    "\n",
    "# Split the dataset into 80% training and 20% test sets, stratified by the 'delayed' field\n",
    "df_train, df_test = train_test_split(\n",
    "    flight_data, train_size=0.8, random_state=24, stratify=flight_data[['delayed']])"
   ]
  },
  {
   "cell_type": "code",
   "execution_count": 8,
   "metadata": {
    "execution": {
     "iopub.execute_input": "2020-11-18T08:18:20.052651Z",
     "iopub.status.busy": "2020-11-18T08:18:20.045621Z",
     "iopub.status.idle": "2020-11-18T08:18:20.061087Z",
     "shell.execute_reply": "2020-11-18T08:18:20.063985Z"
    },
    "papermill": {
     "duration": 0.126323,
     "end_time": "2020-11-18T08:18:20.064519",
     "exception": false,
     "start_time": "2020-11-18T08:18:19.938196",
     "status": "completed"
    },
    "tags": []
   },
   "outputs": [
    {
     "name": "stdout",
     "output_type": "stream",
     "text": [
      "Training set: 6464 rows\n",
      "Test set: 1617 rows\n"
     ]
    }
   ],
   "source": [
    "# specify the target variable\n",
    "y_train = df_train['delayed'].values\n",
    "y_test = df_test['delayed'].values\n",
    "print('Training set: {} rows'.format(len(df_train)))\n",
    "print('Test set: {} rows'.format(len(df_test)))"
   ]
  },
  {
   "cell_type": "markdown",
   "metadata": {
    "papermill": {
     "duration": 0.115843,
     "end_time": "2020-11-18T08:18:20.306307",
     "exception": false,
     "start_time": "2020-11-18T08:18:20.190464",
     "status": "completed"
    },
    "tags": []
   },
   "source": [
    "### Encode categorical variables\n",
    "\n",
    "Next, we want to encode the various _categorical_ features we have - such as the flight departure time bucket, airline and airport ids, and so on - into numerical representations. We do this by assigning integer ids to each unique feature value. This is known as ordinal encoding.\n",
    "\n",
    "Note that certain models (e.g. linear models) will interpret these numerical values as having an ordinal structure. However, for our demonstration purposes we will use tree-based models, which can handle these types of integer ids directly. \n",
    "\n",
    "For linear models, we would prefer to use one-hot encoding for categorical features."
   ]
  },
  {
   "cell_type": "code",
   "execution_count": 12,
   "metadata": {
    "execution": {
     "iopub.execute_input": "2020-11-18T08:18:21.180077Z",
     "iopub.status.busy": "2020-11-18T08:18:21.177806Z",
     "iopub.status.idle": "2020-11-18T08:18:21.204782Z",
     "shell.execute_reply": "2020-11-18T08:18:21.205933Z"
    },
    "papermill": {
     "duration": 0.123097,
     "end_time": "2020-11-18T08:18:21.206303",
     "exception": false,
     "start_time": "2020-11-18T08:18:21.083206",
     "status": "completed"
    },
    "tags": []
   },
   "outputs": [
    {
     "name": "stdout",
     "output_type": "stream",
     "text": [
      "Training set categorical features: 6464 rows, 7 features\n",
      "Test set categorical features: 1617 rows, 7 features\n"
     ]
    }
   ],
   "source": [
    "from sklearn.preprocessing import OrdinalEncoder\n",
    "\n",
    "# specify columns for raw categorical features\n",
    "cat_columns = [\n",
    "    'month',\n",
    "    'day_of_month',\n",
    "    'day_of_week',\n",
    "    'airline_name',\n",
    "    'dest',\n",
    "    'dep_time_bin',\n",
    "    'distance_bin'\n",
    "]\n",
    "\n",
    "# extract categorical data columns for training set\n",
    "df_train_cat = df_train[cat_columns]\n",
    "# extract categorical data columns for test set\n",
    "df_test_cat = df_test[cat_columns]\n",
    "\n",
    "ord_enc = OrdinalEncoder()\n",
    "# fit and encode training features\n",
    "X_train_cat = ord_enc.fit_transform(df_train_cat)\n",
    "# encode test features\n",
    "X_test_cat = ord_enc.transform(df_test_cat)\n",
    "\n",
    "print('Training set categorical features: {} rows, {} features' .format(X_train_cat.shape[0], X_train_cat.shape[1]))\n",
    "print('Test set categorical features: {} rows, {} features' .format(X_test_cat.shape[0], X_test_cat.shape[1]))"
   ]
  },
  {
   "cell_type": "markdown",
   "metadata": {
    "papermill": {
     "duration": 0.061496,
     "end_time": "2020-11-18T08:18:21.341646",
     "exception": false,
     "start_time": "2020-11-18T08:18:21.280150",
     "status": "completed"
    },
    "tags": []
   },
   "source": [
    "### Encode numerical variables\n",
    "\n",
    "The next step is to encode numerical features. Depending on the models used, it can be very important to scale / normalize numerical features - such as `wind_speed` or `precip`. Again, linear models and neural networks are a good example of this. In our case we will use tree-based models, which again do not require feature scaling, hence we can use these numerical features directly without pre-processing. \n",
    "\n",
    "**Note** that the weather type features are also categorical. However, we have already encoded these as binary values in our pre-processing step, hence we can now treat these features as numerical."
   ]
  },
  {
   "cell_type": "code",
   "execution_count": 13,
   "metadata": {
    "execution": {
     "iopub.execute_input": "2020-11-18T08:18:21.468088Z",
     "iopub.status.busy": "2020-11-18T08:18:21.466535Z",
     "iopub.status.idle": "2020-11-18T08:18:21.473172Z",
     "shell.execute_reply": "2020-11-18T08:18:21.474339Z"
    },
    "papermill": {
     "duration": 0.085598,
     "end_time": "2020-11-18T08:18:21.474773",
     "exception": false,
     "start_time": "2020-11-18T08:18:21.389175",
     "status": "completed"
    },
    "tags": []
   },
   "outputs": [
    {
     "name": "stdout",
     "output_type": "stream",
     "text": [
      "Training set numerical features: 6464 rows, 14 features\n",
      "Test set numerical features: 1617 rows, 14 features\n"
     ]
    }
   ],
   "source": [
    "num_columns = [\n",
    "    'visibility',\n",
    "    'wind_speed',\n",
    "    'wind_gust_speed',\n",
    "    'precip',\n",
    "    'rain',\n",
    "    'ice_pellets',\n",
    "    'mist',\n",
    "    'snow',\n",
    "    'drizzle',\n",
    "    'haze',\n",
    "    'fog',\n",
    "    'thunderstorm',\n",
    "    'smoke',\n",
    "    'unknown_precipitation'\n",
    "]\n",
    "\n",
    "# extract numerical data columns for training set\n",
    "X_train_num = df_train[num_columns].values\n",
    "# extract numerical data columns for validation set\n",
    "X_test_num = df_test[num_columns].values\n",
    "\n",
    "print('Training set numerical features: {} rows, {} features' .format(X_train_num.shape[0], X_train_num.shape[1]))\n",
    "print('Test set numerical features: {} rows, {} features' .format(X_test_num.shape[0], X_test_num.shape[1]))"
   ]
  },
  {
   "cell_type": "markdown",
   "metadata": {
    "papermill": {
     "duration": 0.069804,
     "end_time": "2020-11-18T08:18:21.611508",
     "exception": false,
     "start_time": "2020-11-18T08:18:21.541704",
     "status": "completed"
    },
    "tags": []
   },
   "source": [
    "#### Combine categorical and numerical features\n",
    "\n",
    "We can now combine the two sets of features by concatenating them (\"horizontally stacking\"):"
   ]
  },
  {
   "cell_type": "code",
   "execution_count": 14,
   "metadata": {
    "execution": {
     "iopub.execute_input": "2020-11-18T08:18:21.758741Z",
     "iopub.status.busy": "2020-11-18T08:18:21.756641Z",
     "iopub.status.idle": "2020-11-18T08:18:21.762752Z",
     "shell.execute_reply": "2020-11-18T08:18:21.763843Z"
    },
    "papermill": {
     "duration": 0.078351,
     "end_time": "2020-11-18T08:18:21.764254",
     "exception": false,
     "start_time": "2020-11-18T08:18:21.685903",
     "status": "completed"
    },
    "tags": []
   },
   "outputs": [
    {
     "name": "stdout",
     "output_type": "stream",
     "text": [
      "Training set all features: 6464 rows, 21 features\n",
      "Test set all features: 1617 rows, 21 features\n"
     ]
    }
   ],
   "source": [
    "X_train = np.hstack((X_train_cat, X_train_num))\n",
    "X_test = np.hstack((X_test_cat, X_test_num))\n",
    "print('Training set all features: {} rows, {} features' .format(X_train.shape[0], X_train.shape[1]))\n",
    "print('Test set all features: {} rows, {} features' .format(X_test.shape[0], X_test.shape[1]))"
   ]
  },
  {
   "cell_type": "markdown",
   "metadata": {
    "papermill": {
     "duration": 0.071053,
     "end_time": "2020-11-18T08:18:21.881204",
     "exception": false,
     "start_time": "2020-11-18T08:18:21.810151",
     "status": "completed"
    },
    "tags": []
   },
   "source": [
    "### Train and evaluate models\n",
    "\n",
    "Now that we have pre-processed all our features into numerical representations, we can pass them to our machine learning models.\n",
    "\n",
    "For simplicity, we will evalute 3 tree-based models: a single decision tree; a random forest and a gradient-boosting tree (both of these are \"ensemble\" models made up of many smaller sub-models, typicaly themselves single decision trees).\n",
    "\n",
    "Tree ensemble models are very flexible and powerful, and typically perform well \"out the box\" in particular on tabular datasets such as we have here. As we have seen, they also require less feature pre-processing and engineering in general than, for example, linear models."
   ]
  },
  {
   "cell_type": "code",
   "execution_count": 15,
   "metadata": {
    "execution": {
     "iopub.execute_input": "2020-11-18T08:18:22.197899Z",
     "iopub.status.busy": "2020-11-18T08:18:22.194945Z",
     "iopub.status.idle": "2020-11-18T08:18:22.201079Z",
     "shell.execute_reply": "2020-11-18T08:18:22.202275Z"
    },
    "papermill": {
     "duration": 0.228994,
     "end_time": "2020-11-18T08:18:22.203119",
     "exception": false,
     "start_time": "2020-11-18T08:18:21.974125",
     "status": "completed"
    },
    "tags": []
   },
   "outputs": [],
   "source": [
    "from sklearn.ensemble import RandomForestClassifier, GradientBoostingClassifier\n",
    "from sklearn.tree import DecisionTreeClassifier\n",
    "from sklearn.model_selection import cross_val_score, cross_validate\n",
    "                 \n",
    "dt = DecisionTreeClassifier()\n",
    "rf = RandomForestClassifier()\n",
    "gb = GradientBoostingClassifier()"
   ]
  },
  {
   "cell_type": "markdown",
   "metadata": {
    "papermill": {
     "duration": 0.037536,
     "end_time": "2020-11-18T08:18:22.299108",
     "exception": false,
     "start_time": "2020-11-18T08:18:22.261572",
     "status": "completed"
    },
    "tags": []
   },
   "source": [
    "We have split out dataset into a training and test set. However, the test set itself should never be directly used in model training, but only to perform a final model evaluation. This gives an estimate on how the model might perform in the \"real world\".\n",
    "\n",
    "We would still like to perform model selection, which means we need to evaluate our models using the training set in some way. To avoid over-fitting on the training set, as well as to give a good estimate on how the model may perform on our test set, we will use K-fold cross-validation on our training set.\n",
    "\n",
    "This splits the dataset into `k` (in our case `5`) non-overlapping subsets (`folds`). In turn, the model is trained on 4 of these (80% of training data) and evaluated on 1 (20% of training data). This is repeated `k` times and the evaluation scores are averaged across each of the `k` runs. This averaged metric typically gives a fairly good indication of how the model performs on unseen data.\n",
    "\n",
    "`scikit-learn` provides us this functionality, built-in and easy to use!\n",
    "\n",
    "**Note** As we see in the analysis notebook, we are dealing with some degree of class imbalance - on-time flights are far more prevelant compared to delayed flights (80% / 20% split). So, we need to be cautious when evaluting the performance of such models. For example, if we use `accuracy` as a metric, then a simple rule that classifies all flights as `on-time` would achieve 80% accuracy, which sounds very good! However, the model is completely unable to actually predict whether a flight will be delayed, so is useless for any real-world application.\n",
    "\n",
    "A common metric used for binary classification is the area under the ROC curve (`roc_auc`). However, this metric can sometimes provide an unclear picture for imbalanced classes.\n",
    "\n",
    "There are a few metrics that try to alleviate this problem for binary classification problems. We will be using `F1 score` as our metric for selecting the model to use, since it can handle the class imbalance problem. _Note_ that the selection of metric also depends on the particular use case."
   ]
  },
  {
   "cell_type": "code",
   "execution_count": 16,
   "metadata": {
    "execution": {
     "iopub.execute_input": "2020-11-18T08:18:22.446902Z",
     "iopub.status.busy": "2020-11-18T08:18:22.444906Z",
     "iopub.status.idle": "2020-11-18T08:18:35.117967Z",
     "shell.execute_reply": "2020-11-18T08:18:35.118575Z"
    },
    "papermill": {
     "duration": 12.762864,
     "end_time": "2020-11-18T08:18:35.118977",
     "exception": false,
     "start_time": "2020-11-18T08:18:22.356113",
     "status": "completed"
    },
    "tags": []
   },
   "outputs": [],
   "source": [
    "metric = 'f1'\n",
    "scores = cross_val_score(dt, X_train, y_train, cv=5, scoring=metric)\n",
    "dt_score = np.mean(scores)\n",
    "\n",
    "scores = cross_val_score(rf, X_train, y_train, cv=5, scoring=metric)\n",
    "rf_score = np.mean(scores)\n",
    "\n",
    "scores = cross_val_score(gb, X_train, y_train, cv=5, scoring=metric)\n",
    "gb_score = np.mean(scores)"
   ]
  },
  {
   "cell_type": "code",
   "execution_count": 18,
   "metadata": {
    "execution": {
     "iopub.execute_input": "2020-11-18T08:18:35.628514Z",
     "iopub.status.busy": "2020-11-18T08:18:35.625753Z",
     "iopub.status.idle": "2020-11-18T08:18:35.924969Z",
     "shell.execute_reply": "2020-11-18T08:18:35.934425Z"
    },
    "papermill": {
     "duration": 0.398603,
     "end_time": "2020-11-18T08:18:35.934935",
     "exception": false,
     "start_time": "2020-11-18T08:18:35.536332",
     "status": "completed"
    },
    "tags": []
   },
   "outputs": [
    {
     "data": {
      "image/png": "[encoded data removed]",
      "text/plain": [
       "<Figure size 1152x432 with 1 Axes>"
      ]
     },
     "metadata": {},
     "output_type": "display_data"
    },
    {
     "name": "stdout",
     "output_type": "stream",
     "text": [
      "Average f1 for DecisionTreeClassifier: 0.2667244744581546\n",
      "Average f1 for RandomForestClassifier: 0.09118698779917064\n",
      "Average f1 for GradientBoostingClassifier: 0.08999596360830066\n"
     ]
    }
   ],
   "source": [
    "cv_scores = [dt_score, rf_score, gb_score]\n",
    "plt.figure(figsize=(16, 6))\n",
    "sns.barplot(x=['DecisionTreeClassifier', 'RandomForestClassifier', 'GradientBoostingClassifier'], y=cv_scores)\n",
    "plt.show()\n",
    "\n",
    "print('Average {} for DecisionTreeClassifier: {}'.format(metric, dt_score))\n",
    "print('Average {} for RandomForestClassifier: {}'.format(metric, rf_score))\n",
    "print('Average {} for GradientBoostingClassifier: {}'.format(metric, gb_score))"
   ]
  },
  {
   "cell_type": "markdown",
   "metadata": {
    "papermill": {
     "duration": 0.085104,
     "end_time": "2020-11-18T08:18:36.095314",
     "exception": false,
     "start_time": "2020-11-18T08:18:36.010210",
     "status": "completed"
    },
    "tags": []
   },
   "source": [
    "Based on this, we will select the `DecisionTreeClassifier`.\n",
    "\n",
    "**Note** based on the `auc_roc` metric, we would have selected the `GradientBoostingClassifier` - try it out in the cells above to see and then compare the model performance later on.\n",
    "\n",
    "We can also evaluate the impact of adding our weather features on model performance:"
   ]
  },
  {
   "cell_type": "code",
   "execution_count": 19,
   "metadata": {
    "execution": {
     "iopub.execute_input": "2020-11-18T08:18:36.276252Z",
     "iopub.status.busy": "2020-11-18T08:18:36.269069Z",
     "iopub.status.idle": "2020-11-18T08:18:36.766179Z",
     "shell.execute_reply": "2020-11-18T08:18:36.768428Z"
    },
    "papermill": {
     "duration": 0.58082,
     "end_time": "2020-11-18T08:18:36.769604",
     "exception": false,
     "start_time": "2020-11-18T08:18:36.188784",
     "status": "completed"
    },
    "tags": []
   },
   "outputs": [],
   "source": [
    "scores = cross_val_score(dt, X_train_cat, y_train, cv=5, scoring=metric)\n",
    "cat_score = np.mean(scores)\n",
    "\n",
    "scores = cross_val_score(dt, X_train_num, y_train, cv=5, scoring=metric)\n",
    "num_score = np.mean(scores)\n",
    "\n",
    "scores = cross_val_score(dt, X_train, y_train, cv=5, scoring=metric)\n",
    "all_score = np.mean(scores)"
   ]
  },
  {
   "cell_type": "code",
   "execution_count": 20,
   "metadata": {
    "execution": {
     "iopub.execute_input": "2020-11-18T08:18:36.948174Z",
     "iopub.status.busy": "2020-11-18T08:18:36.940451Z",
     "iopub.status.idle": "2020-11-18T08:18:37.362807Z",
     "shell.execute_reply": "2020-11-18T08:18:37.364205Z"
    },
    "papermill": {
     "duration": 0.515062,
     "end_time": "2020-11-18T08:18:37.364483",
     "exception": false,
     "start_time": "2020-11-18T08:18:36.849421",
     "status": "completed"
    },
    "tags": []
   },
   "outputs": [
    {
     "data": {
      "image/png": "[encoded data removed]",
      "text/plain": [
       "<Figure size 1152x432 with 1 Axes>"
      ]
     },
     "metadata": {},
     "output_type": "display_data"
    },
    {
     "name": "stdout",
     "output_type": "stream",
     "text": [
      "Average f1 for only flight delay features: 0.25514557033113305\n",
      "Average f1 for only weather features: 0.11530678520395746\n",
      "Average f1 for all features: 0.28007599914945136\n"
     ]
    }
   ],
   "source": [
    "cv_scores = [cat_score, num_score, all_score]\n",
    "plt.figure(figsize=(16, 6))\n",
    "sns.barplot(x=['Flight features', 'Weather features', 'Flight + Weather features'], y=cv_scores)\n",
    "plt.show()\n",
    "\n",
    "print('Average {} for only flight delay features: {}'.format(metric, cat_score))\n",
    "print('Average {} for only weather features: {}'.format(metric, num_score))\n",
    "print('Average {} for all features: {}'.format(metric, all_score))"
   ]
  },
  {
   "cell_type": "markdown",
   "metadata": {
    "papermill": {
     "duration": 0.062557,
     "end_time": "2020-11-18T08:18:37.482478",
     "exception": false,
     "start_time": "2020-11-18T08:18:37.419921",
     "status": "completed"
    },
    "tags": []
   },
   "source": [
    "We see that using only weather features does little better than random guessing, while adding weather features to the flight features increases our metric by around `0.01`. This is not a very large amount, but it does indicate that information about weather helps a little with predictions. In some applications, even small increases in model performance can be significant.\n",
    "\n",
    "Finally, we re-train the model on the full training dataset and perform a final classification evaluation on the test set."
   ]
  },
  {
   "cell_type": "code",
   "execution_count": 21,
   "metadata": {
    "execution": {
     "iopub.execute_input": "2020-11-18T08:18:37.632731Z",
     "iopub.status.busy": "2020-11-18T08:18:37.630241Z",
     "iopub.status.idle": "2020-11-18T08:18:37.679850Z",
     "shell.execute_reply": "2020-11-18T08:18:37.682971Z"
    },
    "papermill": {
     "duration": 0.115252,
     "end_time": "2020-11-18T08:18:37.683489",
     "exception": false,
     "start_time": "2020-11-18T08:18:37.568237",
     "status": "completed"
    },
    "tags": []
   },
   "outputs": [
    {
     "name": "stdout",
     "output_type": "stream",
     "text": [
      "Final f1 for test set: 0.2662889518413598\n"
     ]
    }
   ],
   "source": [
    "from sklearn.metrics import confusion_matrix, roc_auc_score, f1_score, classification_report\n",
    "from sklearn.metrics import plot_roc_curve, plot_confusion_matrix, plot_precision_recall_curve\n",
    "\n",
    "# fit on full data\n",
    "dt.fit(X_train, y_train)\n",
    "y_prob = dt.predict_proba(X_test)[:, 1]\n",
    "y_pred = dt.predict(X_test)\n",
    "\n",
    "f1_test = f1_score(y_test, y_prob)\n",
    "roc_auc_test = roc_auc_score(y_test, y_prob)\n",
    "print('Final {} for test set: {}'.format(metric, f1_test))"
   ]
  },
  {
   "cell_type": "markdown",
   "metadata": {},
   "source": [
    "We export the trained model and a few example rows from the test dataset, for potential use by downstream stages."
   ]
  },
  {
   "cell_type": "code",
   "execution_count": 22,
   "metadata": {
    "execution": {
     "iopub.execute_input": "2020-11-18T08:18:37.831583Z",
     "iopub.status.busy": "2020-11-18T08:18:37.829319Z",
     "iopub.status.idle": "2020-11-18T08:18:37.838069Z",
     "shell.execute_reply": "2020-11-18T08:18:37.840353Z"
    },
    "papermill": {
     "duration": 0.103875,
     "end_time": "2020-11-18T08:18:37.841101",
     "exception": false,
     "start_time": "2020-11-18T08:18:37.737226",
     "status": "completed"
    },
    "tags": []
   },
   "outputs": [],
   "source": [
    "# save the model file for downstream tasks\n",
    "from joblib import dump\n",
    "dump(dt, '{}/model.joblib'.format(MODEL_EXPORT_FOLDER))\n",
    "\n",
    "# also save a few example rows\n",
    "np.save('data/test_rows.npy', X_test[:10])"
   ]
  },
  {
   "cell_type": "code",
   "execution_count": 24,
   "metadata": {
    "execution": {
     "iopub.execute_input": "2020-11-18T08:18:38.328321Z",
     "iopub.status.busy": "2020-11-18T08:18:38.324840Z",
     "iopub.status.idle": "2020-11-18T08:18:38.333370Z",
     "shell.execute_reply": "2020-11-18T08:18:38.334895Z"
    },
    "papermill": {
     "duration": 0.094319,
     "end_time": "2020-11-18T08:18:38.335400",
     "exception": false,
     "start_time": "2020-11-18T08:18:38.241081",
     "status": "completed"
    },
    "tags": []
   },
   "outputs": [],
   "source": [
    "# export metrics for KFP\n",
    "metrics = {\n",
    "    'metrics': [\n",
    "        {\n",
    "            'name': 'f1_score',\n",
    "            'numberValue':  f1_test,\n",
    "            'format': 'RAW'\n",
    "        },\n",
    "        {\n",
    "            'name': 'roc_auc_score',\n",
    "            'numberValue':  roc_auc_test,\n",
    "            'format': 'RAW'       \n",
    "        }\n",
    "    ]\n",
    "  }\n",
    "\n",
    "with open('mlpipeline-metrics.json', 'w') as f:\n",
    "    json.dump(metrics, f)"
   ]
  },
  {
   "cell_type": "code",
   "execution_count": 25,
   "metadata": {
    "execution": {
     "iopub.execute_input": "2020-11-18T08:18:38.548422Z",
     "iopub.status.busy": "2020-11-18T08:18:38.547372Z",
     "iopub.status.idle": "2020-11-18T08:18:39.169041Z",
     "shell.execute_reply": "2020-11-18T08:18:39.169894Z"
    },
    "papermill": {
     "duration": 0.772836,
     "end_time": "2020-11-18T08:18:39.170162",
     "exception": false,
     "start_time": "2020-11-18T08:18:38.397326",
     "status": "completed"
    },
    "tags": []
   },
   "outputs": [
    {
     "data": {
      "image/png": "[encoded data removed]",
      "text/plain": [
       "<Figure size 1152x432 with 2 Axes>"
      ]
     },
     "metadata": {},
     "output_type": "display_data"
    }
   ],
   "source": [
    "fig = plt.figure(figsize=(16, 6))\n",
    "plt.subplot(121)\n",
    "plot_roc_curve(dt, X_test, y_test, ax=fig.gca())\n",
    "plt.subplot(122)\n",
    "plot_precision_recall_curve(dt, X_test, y_test, ax=fig.gca())\n",
    "plt.show()"
   ]
  },
  {
   "cell_type": "code",
   "execution_count": 26,
   "metadata": {
    "execution": {
     "iopub.execute_input": "2020-11-18T08:18:39.391896Z",
     "iopub.status.busy": "2020-11-18T08:18:39.389036Z",
     "iopub.status.idle": "2020-11-18T08:18:39.404140Z",
     "shell.execute_reply": "2020-11-18T08:18:39.406293Z"
    },
    "papermill": {
     "duration": 0.156631,
     "end_time": "2020-11-18T08:18:39.409069",
     "exception": false,
     "start_time": "2020-11-18T08:18:39.252438",
     "status": "completed"
    },
    "tags": []
   },
   "outputs": [
    {
     "name": "stdout",
     "output_type": "stream",
     "text": [
      "              precision    recall  f1-score   support\n",
      "\n",
      "     On-time       0.80      0.79      0.80      1279\n",
      "     Delayed       0.26      0.28      0.27       338\n",
      "\n",
      "    accuracy                           0.68      1617\n",
      "   macro avg       0.53      0.53      0.53      1617\n",
      "weighted avg       0.69      0.68      0.68      1617\n",
      "\n"
     ]
    }
   ],
   "source": [
    "print(classification_report(y_test, y_pred, target_names=['On-time', 'Delayed']))"
   ]
  },
  {
   "cell_type": "code",
   "execution_count": 27,
   "metadata": {
    "execution": {
     "iopub.execute_input": "2020-11-18T08:18:39.602162Z",
     "iopub.status.busy": "2020-11-18T08:18:39.599392Z",
     "iopub.status.idle": "2020-11-18T08:18:40.250026Z",
     "shell.execute_reply": "2020-11-18T08:18:40.252530Z"
    },
    "papermill": {
     "duration": 0.754131,
     "end_time": "2020-11-18T08:18:40.253152",
     "exception": false,
     "start_time": "2020-11-18T08:18:39.499021",
     "status": "completed"
    },
    "tags": []
   },
   "outputs": [
    {
     "data": {
      "image/png": "[encoded data removed]",
      "text/plain": [
       "<Figure size 864x576 with 2 Axes>"
      ]
     },
     "metadata": {},
     "output_type": "display_data"
    }
   ],
   "source": [
    "cm = confusion_matrix(y_test, y_pred)\n",
    "class_labels = ['On-time', 'Delayed']\n",
    "labels = ['{0:0.0f}'.format(value) for value in\n",
    "                cm.flatten()]\n",
    "labels = np.asarray(labels).reshape(2,2)\n",
    "fig = plt.figure(figsize=(12, 8))\n",
    "chart = sns.heatmap(\n",
    "    cm, annot=labels, fmt='', cmap='Blues',\n",
    "    xticklabels=class_labels, yticklabels=class_labels)\n",
    "chart.set_xlabel('Predicted label')\n",
    "chart.set_ylabel('True label')\n",
    "chart.set_title('Confusion Matrix')\n",
    "plt.show()"
   ]
  },
  {
   "cell_type": "code",
   "execution_count": 28,
   "metadata": {
    "execution": {
     "iopub.execute_input": "2020-11-18T08:18:40.436975Z",
     "iopub.status.busy": "2020-11-18T08:18:40.435360Z",
     "iopub.status.idle": "2020-11-18T08:18:40.446951Z",
     "shell.execute_reply": "2020-11-18T08:18:40.448576Z"
    },
    "papermill": {
     "duration": 0.11445,
     "end_time": "2020-11-18T08:18:40.449124",
     "exception": false,
     "start_time": "2020-11-18T08:18:40.334674",
     "status": "completed"
    },
    "tags": []
   },
   "outputs": [],
   "source": [
    "# export confusion matrix for KFP\n",
    "cm_data = []\n",
    "for target_index, target_row in enumerate(cm):\n",
    "    for predicted_index, count in enumerate(target_row):\n",
    "        cm_data.append((class_labels[target_index], class_labels[predicted_index], count))\n",
    "        \n",
    "ui_metadata = {\n",
    "    'outputs' : [{\n",
    "        'type': 'confusion_matrix',\n",
    "        'format': 'csv',\n",
    "        'schema': [\n",
    "            {'name': 'target', 'type': 'CATEGORY'},\n",
    "            {'name': 'predicted', 'type': 'CATEGORY'},\n",
    "            {'name': 'count', 'type': 'NUMBER'},\n",
    "        ],\n",
    "        'source': pd.DataFrame(cm_data).to_csv(header=False, index=False),\n",
    "        'storage': 'inline',\n",
    "        'labels': ['Delayed', 'On-time'],\n",
    "    }]\n",
    "}\n",
    "\n",
    "with open('mlpipeline-ui-metadata.json', 'w') as f:\n",
    "    json.dump(ui_metadata, f)"
   ]
  },
  {
   "cell_type": "markdown",
   "metadata": {
    "papermill": {
     "duration": 0.093976,
     "end_time": "2020-11-18T08:18:40.628918",
     "exception": false,
     "start_time": "2020-11-18T08:18:40.534942",
     "status": "completed"
    },
    "tags": []
   },
   "source": [
    "If we investigate the various classification charts and reports, we can see that our problem of classifying whether a flight will be delayed is a tricky one.\n",
    "\n",
    "As one might expect, the model predicts most `on-time` flights as `on-time` (80%). However, it struggles to correctly predict `delayed` flights, instead classifying them as `on-time`. In fact it only correctly predicts delays 28% of the time! (this is the `recall` figure for `Delayed` in the classification report table). When it predicts a delayed flight, it is correct only 25% of the time (this is the `precision` field).\n",
    "\n",
    "Overall, we would say that our model is doing a mediocre job of predicting flight delays - we either need to do a lot more model tuning and hyper-parameter selection, or use more data and better features.\n",
    "\n",
    "Perhaps you can try to find ways to improve the performance!\n",
    "\n",
    "Finally, we can generate a list of \"feature importances\" to see what the model is focusing on for making predictions:"
   ]
  },
  {
   "cell_type": "code",
   "execution_count": 29,
   "metadata": {
    "execution": {
     "iopub.execute_input": "2020-11-18T08:18:40.931577Z",
     "iopub.status.busy": "2020-11-18T08:18:40.926080Z",
     "iopub.status.idle": "2020-11-18T08:18:41.805718Z",
     "shell.execute_reply": "2020-11-18T08:18:41.807108Z"
    },
    "papermill": {
     "duration": 1.03302,
     "end_time": "2020-11-18T08:18:41.807618",
     "exception": false,
     "start_time": "2020-11-18T08:18:40.774598",
     "status": "completed"
    },
    "tags": []
   },
   "outputs": [
    {
     "data": {
      "image/png": "[encoded data removed]",
      "text/plain": [
       "<Figure size 1152x576 with 1 Axes>"
      ]
     },
     "metadata": {},
     "output_type": "display_data"
    }
   ],
   "source": [
    "feat_names = list(df_train_cat.columns.values) + list(df_train[num_columns].columns.values)\n",
    "feat_nb = dt.feature_importances_\n",
    "plt.figure(figsize=(16, 8))\n",
    "chart = sns.barplot(x=feat_names, y=feat_nb, palette='Blues')\n",
    "chart.set_xticklabels(\n",
    "    chart.get_xticklabels(), \n",
    "    rotation=45, \n",
    "    horizontalalignment='right',\n",
    "    fontweight='light',\n",
    "    fontsize='large'\n",
    ")\n",
    "plt.show()"
   ]
  },
  {
   "cell_type": "markdown",
   "metadata": {
    "papermill": {
     "duration": 0.092487,
     "end_time": "2020-11-18T08:18:41.990826",
     "exception": false,
     "start_time": "2020-11-18T08:18:41.898339",
     "status": "completed"
    },
    "tags": []
   },
   "source": [
    "Of the flight features, the time-based features as well as departure time and destination seem to be most important. For weather features, wind speed and visibility seem to be dominant in importance."
   ]
  },
  {
   "cell_type": "markdown",
   "metadata": {
    "papermill": {
     "duration": 0.102869,
     "end_time": "2020-11-18T08:18:42.210083",
     "exception": false,
     "start_time": "2020-11-18T08:18:42.107214",
     "status": "completed"
    },
    "tags": []
   },
   "source": [
    "### Authors\n",
    "This notebook was created by the [Center for Open-Source Data & AI Technologies](http://codait.org).\n",
    "\n",
    "Copyright © 2019 IBM. This notebook and its source code are released under the terms of the MIT License."
   ]
  }
 ],
 "metadata": {
  "kernelspec": {
   "display_name": "Python 3",
   "language": "python",
   "name": "python3"
  },
  "language_info": {
   "codemirror_mode": {
    "name": "ipython",
    "version": 3
   },
   "file_extension": ".py",
   "mimetype": "text/x-python",
   "name": "python",
   "nbconvert_exporter": "python",
   "pygments_lexer": "ipython3",
   "version": "3.7.9"
  },
  "papermill": {
   "duration": 32.703418,
   "end_time": "2020-11-18T08:18:42.783147",
   "environment_variables": {},
   "exception": null,
   "input_path": "/Users/nick/workspace/python/flight-delay-notebooks/notebooks/predict_flight_delays.ipynb",
   "output_path": "/Users/nick/workspace/python/flight-delay-notebooks/notebooks/predict_flight_delays.ipynb",
   "parameters": {},
   "start_time": "2020-11-18T08:18:10.079729",
   "version": "2.1.1"
  },
  "toc-autonumbering": false,
  "toc-showcode": false,
  "toc-showmarkdowntxt": false,
  "toc-showtags": false
 },
 "nbformat": 4,
 "nbformat_minor": 4
}
