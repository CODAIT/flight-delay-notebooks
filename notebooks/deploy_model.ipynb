{
 "cells": [
  {
   "cell_type": "markdown",
   "metadata": {
    "papermill": {
     "duration": 0.027099,
     "end_time": "2020-11-18T08:18:44.423834",
     "exception": false,
     "start_time": "2020-11-18T08:18:44.396735",
     "status": "completed"
    },
    "tags": []
   },
   "source": [
    "# Deploying the Flight Delay Model\n",
    "\n",
    "In this notebook, we deploy the model we trained to predict flight delays, using [Kubeflow Serving](https://www.kubeflow.org/docs/components/serving/kfserving/).\n",
    "\n",
    "**Note** this notebook requires access to a KFServing installation. See the [KFServing instructions](../kfserving.md) for details. If running the pipeline on the Kubeflow Pipelines runtime, also see the [readme instructions](../README.md) for the link to install KFP.\n",
    "\n",
    "#### Import required modules\n",
    "\n",
    "Import and configure the required modules."
   ]
  },
  {
   "cell_type": "code",
   "execution_count": 1,
   "metadata": {
    "execution": {
     "iopub.execute_input": "2020-11-18T08:18:44.478966Z",
     "iopub.status.busy": "2020-11-18T08:18:44.476943Z",
     "iopub.status.idle": "2020-11-18T08:18:48.056784Z",
     "shell.execute_reply": "2020-11-18T08:18:48.058150Z"
    },
    "papermill": {
     "duration": 3.611512,
     "end_time": "2020-11-18T08:18:48.058835",
     "exception": false,
     "start_time": "2020-11-18T08:18:44.447323",
     "status": "completed"
    },
    "tags": []
   },
   "outputs": [],
   "source": [
    "! pip install -q kfserving"
   ]
  },
  {
   "cell_type": "code",
   "execution_count": 2,
   "metadata": {
    "papermill": {
     "duration": 0.482286,
     "end_time": "2020-11-18T08:18:48.568460",
     "exception": false,
     "start_time": "2020-11-18T08:18:48.086174",
     "status": "completed"
    },
    "tags": []
   },
   "outputs": [],
   "source": [
    "import os\n",
    "import numpy as np\n",
    "import requests\n",
    "# minio is part of kfserving \n",
    "from minio import Minio"
   ]
  },
  {
   "cell_type": "markdown",
   "metadata": {
    "papermill": {
     "duration": 0.01689,
     "end_time": "2020-11-18T08:18:48.598760",
     "exception": false,
     "start_time": "2020-11-18T08:18:48.581870",
     "status": "completed"
    },
    "tags": []
   },
   "source": [
    "### Upload the model to object storage\n",
    "\n",
    "Our notebook has access to the trained model file, which was exported by the previous pipeline phase. _However_, when using a Kubeflow Pipelines runtime, it is not possible to programatically access the object storage bucket. It also makes execution mechanics different between local and KFP execution mode.\n",
    "\n",
    "So, here we will use a dedicated bucket for models in object storage, and upload it from the notebook execution environment. We will then deploy the KFServing inference service using that object storage location."
   ]
  },
  {
   "cell_type": "code",
   "execution_count": 3,
   "metadata": {
    "papermill": {
     "duration": 0.075383,
     "end_time": "2020-11-18T08:18:48.693843",
     "exception": false,
     "start_time": "2020-11-18T08:18:48.618460",
     "status": "completed"
    },
    "tags": []
   },
   "outputs": [
    {
     "name": "stdout",
     "output_type": "stream",
     "text": [
      "Current buckets:\n",
      "  mlpipeline\n",
      "  models\n",
      "  test\n"
     ]
    }
   ],
   "source": [
    "# set up the minio client to access object storage buckets\n",
    "os_url = os.environ.get('OS_URL', 'minio-service:9000')\n",
    "access_key = os.environ.get('ACCESS_KEY_ID', 'minio')\n",
    "secret_key = os.environ.get('SECRET_ACCESS_KEY', 'minio123')\n",
    "\n",
    "mc = Minio(os_url,\n",
    "           access_key=access_key,\n",
    "           secret_key=secret_key,\n",
    "           secure=False)\n",
    "\n",
    "print('Current buckets:')\n",
    "for b in mc.list_buckets():\n",
    "    print('  ' + b.name)"
   ]
  },
  {
   "cell_type": "code",
   "execution_count": 4,
   "metadata": {
    "papermill": {
     "duration": 0.135535,
     "end_time": "2020-11-18T08:18:48.852893",
     "exception": false,
     "start_time": "2020-11-18T08:18:48.717358",
     "status": "completed"
    },
    "tags": []
   },
   "outputs": [],
   "source": [
    "# create a bucket to upload the model file to\n",
    "# NOTE we delete any existing model file and re-create the bucket\n",
    "model_bucket = os.environ.get('MODEL_BUCKET', 'models')\n",
    "model_dir = os.environ.get('MODEL_DIR', 'models')\n",
    "model_file = 'model.joblib'\n",
    "model_path = '{}/{}'.format(model_dir, model_file)\n",
    "\n",
    "mc.remove_object(model_bucket, model_file)\n",
    "mc.remove_bucket(model_bucket)\n",
    "mc.make_bucket(model_bucket)"
   ]
  },
  {
   "cell_type": "code",
   "execution_count": 5,
   "metadata": {
    "papermill": {
     "duration": 0.073398,
     "end_time": "2020-11-18T08:18:48.948509",
     "exception": false,
     "start_time": "2020-11-18T08:18:48.875111",
     "status": "completed"
    },
    "tags": []
   },
   "outputs": [],
   "source": [
    "# upload the model file\n",
    "file_stat = os.stat(model_path)\n",
    "with open(model_path, 'rb') as data:\n",
    "    mc.put_object(model_bucket, model_file, data, file_stat.st_size)"
   ]
  },
  {
   "cell_type": "code",
   "execution_count": 6,
   "metadata": {
    "papermill": {
     "duration": 0.043892,
     "end_time": "2020-11-18T08:18:49.013732",
     "exception": false,
     "start_time": "2020-11-18T08:18:48.969840",
     "status": "completed"
    },
    "tags": []
   },
   "outputs": [
    {
     "name": "stdout",
     "output_type": "stream",
     "text": [
      "<Object: bucket_name: models object_name: b'model.joblib' version_id: None last_modified: 2020-11-18 09:45:22.396000+00:00 etag: dffeabb3c018e1cc15e45ac72e1d6e8d-1 size: 208215 content_type: None is_dir: False metadata: None >\n"
     ]
    }
   ],
   "source": [
    "# check whether the model file is there\n",
    "for o in mc.list_objects('models'):\n",
    "    print(o)"
   ]
  },
  {
   "cell_type": "markdown",
   "metadata": {
    "papermill": {
     "duration": 0.026022,
     "end_time": "2020-11-18T08:18:49.063152",
     "exception": false,
     "start_time": "2020-11-18T08:18:49.037130",
     "status": "completed"
    },
    "tags": []
   },
   "source": [
    "### Create the inference service\n",
    "\n",
    "Next, we use the KFServing Python client to create the inference service.\n",
    "\n",
    "**Note** the prerequisites (see the [KF Serving instructions](../kfserving.md)):\n",
    "1. A service account and related secret for the object storage service\n",
    "1. Specify the custom `sklearnserver` Docker image\n",
    "1. Patch the KFP `pipeline-runner` service account role to allow creating a KFServing `inferenceservice`"
   ]
  },
  {
   "cell_type": "code",
   "execution_count": 7,
   "metadata": {
    "papermill": {
     "duration": 1.69507,
     "end_time": "2020-11-18T08:18:50.780623",
     "exception": false,
     "start_time": "2020-11-18T08:18:49.085553",
     "status": "completed"
    },
    "tags": []
   },
   "outputs": [],
   "source": [
    "from kubernetes import client\n",
    "\n",
    "from kfserving import KFServingClient\n",
    "from kfserving import constants\n",
    "from kfserving import utils\n",
    "from kfserving import V1alpha2EndpointSpec\n",
    "from kfserving import V1alpha2PredictorSpec\n",
    "from kfserving import V1alpha2SKLearnSpec\n",
    "from kfserving import V1alpha2InferenceServiceSpec\n",
    "from kfserving import V1alpha2InferenceService\n",
    "from kubernetes.client import V1ResourceRequirements"
   ]
  },
  {
   "cell_type": "code",
   "execution_count": 8,
   "metadata": {
    "papermill": {
     "duration": 0.063631,
     "end_time": "2020-11-18T08:18:50.861642",
     "exception": false,
     "start_time": "2020-11-18T08:18:50.798011",
     "status": "completed"
    },
    "tags": []
   },
   "outputs": [],
   "source": [
    "KFServing = KFServingClient()"
   ]
  },
  {
   "cell_type": "code",
   "execution_count": 9,
   "metadata": {
    "papermill": {
     "duration": 0.033502,
     "end_time": "2020-11-18T08:18:50.913687",
     "exception": false,
     "start_time": "2020-11-18T08:18:50.880185",
     "status": "completed"
    },
    "tags": []
   },
   "outputs": [],
   "source": [
    "# we need to use the 'kubeflow' namespace so that the KFP runner can create the inference service\n",
    "namespace = 'kubeflow'\n",
    "# this is the service account created for S3 access credentials\n",
    "service_acc = 'kfserving-sa'\n",
    "model_storage_uri = 's3://{}'.format(model_bucket)\n",
    "model_name = 'flight-model'"
   ]
  },
  {
   "cell_type": "code",
   "execution_count": 11,
   "metadata": {
    "papermill": {
     "duration": 0.286184,
     "end_time": "2020-11-18T08:18:51.217188",
     "exception": false,
     "start_time": "2020-11-18T08:18:50.931004",
     "status": "completed"
    },
    "tags": []
   },
   "outputs": [
    {
     "data": {
      "text/plain": [
       "{'apiVersion': 'serving.kubeflow.org/v1alpha2',\n",
       " 'kind': 'InferenceService',\n",
       " 'metadata': {'creationTimestamp': '2020-11-18T09:45:49Z',\n",
       "  'generation': 1,\n",
       "  'managedFields': [{'apiVersion': 'serving.kubeflow.org/v1alpha2',\n",
       "    'fieldsType': 'FieldsV1',\n",
       "    'fieldsV1': {'f:spec': {'.': {},\n",
       "      'f:default': {'.': {},\n",
       "       'f:predictor': {'.': {},\n",
       "        'f:serviceAccountName': {},\n",
       "        'f:sklearn': {'.': {},\n",
       "         'f:resources': {'.': {},\n",
       "          'f:limits': {'.': {}, 'f:cpu': {}, 'f:memory': {}},\n",
       "          'f:requests': {'.': {}, 'f:cpu': {}, 'f:memory': {}}},\n",
       "         'f:storageUri': {}}}}}},\n",
       "    'manager': 'Swagger-Codegen',\n",
       "    'operation': 'Update',\n",
       "    'time': '2020-11-18T09:45:49Z'}],\n",
       "  'name': 'flight-model',\n",
       "  'namespace': 'kubeflow',\n",
       "  'resourceVersion': '462314',\n",
       "  'selfLink': '/apis/serving.kubeflow.org/v1alpha2/namespaces/kubeflow/inferenceservices/flight-model',\n",
       "  'uid': '81214f9a-01b7-41f2-89d4-2b7e7c5dc043'},\n",
       " 'spec': {'default': {'predictor': {'serviceAccountName': 'kfserving-sa',\n",
       "    'sklearn': {'resources': {'limits': {'cpu': '100m', 'memory': '1Gi'},\n",
       "      'requests': {'cpu': '100m', 'memory': '1Gi'}},\n",
       "     'runtimeVersion': 'latest',\n",
       "     'storageUri': 's3://models'}}}}}"
      ]
     },
     "execution_count": 11,
     "metadata": {},
     "output_type": "execute_result"
    }
   ],
   "source": [
    "api_version = constants.KFSERVING_GROUP + '/' + constants.KFSERVING_VERSION\n",
    "default_endpoint_spec = V1alpha2EndpointSpec(\n",
    "    predictor=V1alpha2PredictorSpec(\n",
    "        sklearn=V1alpha2SKLearnSpec(\n",
    "            storage_uri=model_storage_uri,\n",
    "            resources=V1ResourceRequirements(\n",
    "                requests={'cpu':'100m','memory':'1Gi'},\n",
    "                limits={'cpu':'100m', 'memory':'1Gi'}\n",
    "            )\n",
    "        ),\n",
    "        service_account_name=service_acc\n",
    "    )\n",
    ")\n",
    "    \n",
    "isvc = V1alpha2InferenceService(api_version=api_version,\n",
    "                                kind=constants.KFSERVING_KIND,\n",
    "                                metadata=client.V1ObjectMeta(\n",
    "                                    name=model_name, namespace=namespace),\n",
    "                                spec=V1alpha2InferenceServiceSpec(default=default_endpoint_spec))\n",
    "KFServing.create(isvc)"
   ]
  },
  {
   "cell_type": "code",
   "execution_count": 12,
   "metadata": {
    "papermill": {
     "duration": 52.976713,
     "end_time": "2020-11-18T08:19:44.223425",
     "exception": false,
     "start_time": "2020-11-18T08:18:51.246712",
     "status": "completed"
    },
    "tags": []
   },
   "outputs": [
    {
     "name": "stdout",
     "output_type": "stream",
     "text": [
      "NAME                 READY      DEFAULT_TRAFFIC CANARY_TRAFFIC  URL                                               \n",
      "flight-model         False                                                                                        \n",
      "flight-model         False                                                                                        \n",
      "flight-model         False                                                                                        \n",
      "flight-model         True       100                             http://flight-model.kubeflow.example.com          \n"
     ]
    }
   ],
   "source": [
    "# Wait for the inference service to be ready\n",
    "KFServing.get(model_name, namespace=namespace, watch=True, timeout_seconds=120)"
   ]
  },
  {
   "cell_type": "markdown",
   "metadata": {
    "papermill": {
     "duration": 0.033225,
     "end_time": "2020-11-18T08:19:44.292909",
     "exception": false,
     "start_time": "2020-11-18T08:19:44.259684",
     "status": "completed"
    },
    "tags": []
   },
   "source": [
    "### Test the inference service\n",
    "\n",
    "Once the inference service is running and available, we can send some test data to the service.\n",
    "\n",
    "**Note** that when deployed into KFP, we need to use the cluster-local url for the model. When executing locally, we assume that port-forwarding is enabled to allow access to the ingress gateway."
   ]
  },
  {
   "cell_type": "code",
   "execution_count": 13,
   "metadata": {
    "papermill": {
     "duration": 0.059486,
     "end_time": "2020-11-18T08:19:44.385956",
     "exception": false,
     "start_time": "2020-11-18T08:19:44.326470",
     "status": "completed"
    },
    "tags": []
   },
   "outputs": [],
   "source": [
    "service = KFServing.get(model_name, namespace=namespace)"
   ]
  },
  {
   "cell_type": "code",
   "execution_count": 14,
   "metadata": {
    "papermill": {
     "duration": 0.04935,
     "end_time": "2020-11-18T08:19:44.467912",
     "exception": false,
     "start_time": "2020-11-18T08:19:44.418562",
     "status": "completed"
    },
    "tags": []
   },
   "outputs": [
    {
     "data": {
      "text/plain": [
       "array([[ 2., 29.,  3.,  1., 57., 11., 10., 10., 10.,  0.,  0.,  0.,  0.,\n",
       "         0.,  0.,  0.,  0.,  0.,  0.,  0.,  0.],\n",
       "       [ 6., 22.,  6.,  3., 59., 12.,  6., 10., 10.,  0.,  0.,  0.,  0.,\n",
       "         0.,  0.,  0.,  0.,  0.,  0.,  0.,  0.],\n",
       "       [ 8., 17.,  1.,  3., 30.,  2.,  9., 10., 21., 11.,  0.,  0.,  0.,\n",
       "         0.,  0.,  0.,  0.,  0.,  0.,  0.,  0.]])"
      ]
     },
     "execution_count": 14,
     "metadata": {},
     "output_type": "execute_result"
    }
   ],
   "source": [
    "# load the 10 example rows from our test data, and display a few rows\n",
    "examples = np.load('data/test_rows.npy')\n",
    "examples[:3]"
   ]
  },
  {
   "cell_type": "code",
   "execution_count": 17,
   "metadata": {
    "papermill": {
     "duration": 0.182396,
     "end_time": "2020-11-18T08:19:44.742105",
     "exception": false,
     "start_time": "2020-11-18T08:19:44.559709",
     "status": "completed"
    },
    "tags": []
   },
   "outputs": [
    {
     "data": {
      "text/plain": [
       "{'predictions': [0, 0, 0, 0, 0, 0, 1, 0, 0, 0]}"
      ]
     },
     "execution_count": 17,
     "metadata": {},
     "output_type": "execute_result"
    }
   ],
   "source": [
    "model_mode = os.environ.get('MODEL_MODE', 'local')\n",
    "model_data = {\"instances\": examples.tolist()}\n",
    "if model_mode == 'local':\n",
    "    # executing locally, use the ingress gateway (we assume port-forwarding) \n",
    "    url = f'http://localhost:8080/v1/models/{model_name}:predict'\n",
    "else:\n",
    "    # we are executing in KFP, use the cluster-local address\n",
    "    url = service['status']['address']['url']\n",
    "service_hostname = '{}.{}.example.com'.format(model_name, namespace)\n",
    "headers = {'Host': service_hostname}\n",
    "\n",
    "resp = requests.post(url=url, json=model_data, headers=headers)\n",
    "resp.json()"
   ]
  },
  {
   "cell_type": "markdown",
   "metadata": {
    "papermill": {
     "duration": 0.024234,
     "end_time": "2020-11-18T08:19:44.804449",
     "exception": false,
     "start_time": "2020-11-18T08:19:44.780215",
     "status": "completed"
    },
    "tags": []
   },
   "source": [
    "### Delete the model service\n",
    "\n",
    "Once we are done, we clean up the service."
   ]
  },
  {
   "cell_type": "code",
   "execution_count": 18,
   "metadata": {
    "papermill": {
     "duration": 0.064369,
     "end_time": "2020-11-18T08:19:44.889183",
     "exception": false,
     "start_time": "2020-11-18T08:19:44.824814",
     "status": "completed"
    },
    "tags": []
   },
   "outputs": [
    {
     "data": {
      "text/plain": [
       "{'kind': 'Status',\n",
       " 'apiVersion': 'v1',\n",
       " 'metadata': {},\n",
       " 'status': 'Success',\n",
       " 'details': {'name': 'flight-model',\n",
       "  'group': 'serving.kubeflow.org',\n",
       "  'kind': 'inferenceservices',\n",
       "  'uid': '81214f9a-01b7-41f2-89d4-2b7e7c5dc043'}}"
      ]
     },
     "execution_count": 18,
     "metadata": {},
     "output_type": "execute_result"
    }
   ],
   "source": [
    "KFServing.delete(model_name, namespace=namespace)"
   ]
  },
  {
   "cell_type": "markdown",
   "metadata": {
    "papermill": {
     "duration": 0.041162,
     "end_time": "2020-11-18T08:19:44.970172",
     "exception": false,
     "start_time": "2020-11-18T08:19:44.929010",
     "status": "completed"
    },
    "tags": []
   },
   "source": [
    "### Authors\n",
    "This notebook was created by the [Center for Open-Source Data & AI Technologies](http://codait.org).\n",
    "\n",
    "Copyright © 2019 IBM. This notebook and its source code are released under the terms of the MIT License."
   ]
  }
 ],
 "metadata": {
  "kernelspec": {
   "display_name": "Python 3",
   "language": "python",
   "name": "python3"
  },
  "language_info": {
   "codemirror_mode": {
    "name": "ipython",
    "version": 3
   },
   "file_extension": ".py",
   "mimetype": "text/x-python",
   "name": "python",
   "nbconvert_exporter": "python",
   "pygments_lexer": "ipython3",
   "version": "3.7.9"
  },
  "papermill": {
   "duration": 62.627555,
   "end_time": "2020-11-18T08:19:45.538914",
   "environment_variables": {},
   "exception": null,
   "input_path": "/Users/nick/workspace/python/flight-delay-notebooks/notebooks/deploy_model.ipynb",
   "output_path": "/Users/nick/workspace/python/flight-delay-notebooks/notebooks/deploy_model.ipynb",
   "parameters": {},
   "start_time": "2020-11-18T08:18:42.911359",
   "version": "2.1.1"
  },
  "toc-autonumbering": false,
  "toc-showcode": false,
  "toc-showmarkdowntxt": false,
  "toc-showtags": false
 },
 "nbformat": 4,
 "nbformat_minor": 4
}
