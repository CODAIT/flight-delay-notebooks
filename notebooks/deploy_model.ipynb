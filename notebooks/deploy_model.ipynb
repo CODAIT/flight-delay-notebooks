{
 "cells": [
  {
   "cell_type": "markdown",
   "metadata": {
    "papermill": {
     "duration": 0.04375,
     "end_time": "2020-11-18T16:57:46.111418",
     "exception": false,
     "start_time": "2020-11-18T16:57:46.067668",
     "status": "completed"
    },
    "tags": []
   },
   "source": [
    "# Deploying the Flight Delay Model\n",
    "\n",
    "In this notebook, we deploy the model we trained to predict flight delays, using [Kubeflow Serving](https://www.kubeflow.org/docs/components/serving/kfserving/).\n",
    "\n",
    "**Note** this notebook requires access to a KFServing installation. See the [KFServing instructions](../kfserving.md) for details. If running the pipeline on the Kubeflow Pipelines runtime, also see the [readme instructions](../README.md) for the link to install KFP.\n",
    "\n",
    "#### Import required modules\n",
    "\n",
    "Import and configure the required modules."
   ]
  },
  {
   "cell_type": "code",
   "execution_count": null,
   "metadata": {
    "papermill": {
     "duration": 17.423869,
     "end_time": "2020-11-18T16:58:03.571681",
     "exception": false,
     "start_time": "2020-11-18T16:57:46.147812",
     "status": "completed"
    },
    "tags": []
   },
   "outputs": [],
   "source": [
    "! pip install -q kfserving"
   ]
  },
  {
   "cell_type": "code",
   "execution_count": null,
   "metadata": {
    "papermill": {
     "duration": 0.811648,
     "end_time": "2020-11-18T16:58:04.400939",
     "exception": false,
     "start_time": "2020-11-18T16:58:03.589291",
     "status": "completed"
    },
    "tags": []
   },
   "outputs": [],
   "source": [
    "import os\n",
    "import numpy as np\n",
    "import requests\n",
    "# minio is part of kfserving \n",
    "from minio import Minio\n",
    "from minio.error import NoSuchBucket"
   ]
  },
  {
   "cell_type": "markdown",
   "metadata": {
    "papermill": {
     "duration": 0.042401,
     "end_time": "2020-11-18T16:58:04.478066",
     "exception": false,
     "start_time": "2020-11-18T16:58:04.435665",
     "status": "completed"
    },
    "tags": []
   },
   "source": [
    "### Upload the model to object storage\n",
    "\n",
    "Our notebook has access to the trained model file, which was exported by the previous pipeline phase. _However_, when using a Kubeflow Pipelines runtime, it is not possible to programatically access the object storage bucket. It also makes execution mechanics different between local and KFP execution mode.\n",
    "\n",
    "So, here we will use a dedicated bucket for models in object storage, and upload it from the notebook execution environment. We will then deploy the KFServing inference service using that object storage location."
   ]
  },
  {
   "cell_type": "code",
   "execution_count": null,
   "metadata": {
    "papermill": {
     "duration": 5.189059,
     "end_time": "2020-11-18T16:58:09.715558",
     "exception": false,
     "start_time": "2020-11-18T16:58:04.526499",
     "status": "completed"
    },
    "tags": []
   },
   "outputs": [],
   "source": [
    "# set up the minio client to access object storage buckets\n",
    "os_url = os.environ.get('OS_URL', 'minio-service:9000')\n",
    "access_key = os.environ.get('ACCESS_KEY_ID', 'minio')\n",
    "secret_key = os.environ.get('SECRET_ACCESS_KEY', 'minio123')\n",
    "\n",
    "mc = Minio(os_url,\n",
    "           access_key=access_key,\n",
    "           secret_key=secret_key,\n",
    "           secure=False)\n",
    "\n",
    "print('Current buckets:')\n",
    "for b in mc.list_buckets():\n",
    "    print('  ' + b.name)"
   ]
  },
  {
   "cell_type": "code",
   "execution_count": null,
   "metadata": {
    "papermill": {
     "duration": 0.158499,
     "end_time": "2020-11-18T16:58:09.903405",
     "exception": false,
     "start_time": "2020-11-18T16:58:09.744906",
     "status": "completed"
    },
    "tags": []
   },
   "outputs": [],
   "source": [
    "# create a bucket to upload the model file to\n",
    "# Note: if the model file already exists we delete it\n",
    "model_bucket = os.environ.get('MODEL_BUCKET', 'models')\n",
    "model_dir = os.environ.get('MODEL_DIR', 'models')\n",
    "model_file = 'model.joblib'\n",
    "model_path = '{}/{}'.format(model_dir, model_file)\n",
    "\n",
    "try:\n",
    "    # delete model file if if exists \n",
    "    mc.remove_object(model_bucket, model_file)\n",
    "except NoSuchBucket:\n",
    "    # the bucket doesn't exist - create it\n",
    "    print('Creating bucket [{}]'.format(model_bucket))\n",
    "    mc.make_bucket(model_bucket)"
   ]
  },
  {
   "cell_type": "code",
   "execution_count": null,
   "metadata": {
    "papermill": {
     "duration": 0.148869,
     "end_time": "2020-11-18T16:58:10.075811",
     "exception": false,
     "start_time": "2020-11-18T16:58:09.926942",
     "status": "completed"
    },
    "tags": []
   },
   "outputs": [],
   "source": [
    "# upload the model file\n",
    "file_stat = os.stat(model_path)\n",
    "with open(model_path, 'rb') as data:\n",
    "    mc.put_object(model_bucket, model_file, data, file_stat.st_size)"
   ]
  },
  {
   "cell_type": "code",
   "execution_count": null,
   "metadata": {
    "papermill": {
     "duration": 0.083705,
     "end_time": "2020-11-18T16:58:10.193249",
     "exception": false,
     "start_time": "2020-11-18T16:58:10.109544",
     "status": "completed"
    },
    "tags": []
   },
   "outputs": [],
   "source": [
    "# check whether the model file is there\n",
    "for o in mc.list_objects(model_bucket, prefix=model_file):\n",
    "    print(o)"
   ]
  },
  {
   "cell_type": "markdown",
   "metadata": {
    "papermill": {
     "duration": 0.052238,
     "end_time": "2020-11-18T16:58:10.293275",
     "exception": false,
     "start_time": "2020-11-18T16:58:10.241037",
     "status": "completed"
    },
    "tags": []
   },
   "source": [
    "### Create the inference service\n",
    "\n",
    "Next, we use the KFServing Python client to create the inference service.\n",
    "\n",
    "**Note** the prerequisites (see the [KF Serving instructions](../kfserving.md)):\n",
    "1. A service account and related secret for the object storage service\n",
    "1. Specify the custom `sklearnserver` Docker image\n",
    "1. Patch the KFP `pipeline-runner` service account role to allow creating a KFServing `inferenceservice`"
   ]
  },
  {
   "cell_type": "code",
   "execution_count": null,
   "metadata": {
    "papermill": {
     "duration": 5.594827,
     "end_time": "2020-11-18T16:58:15.938195",
     "exception": false,
     "start_time": "2020-11-18T16:58:10.343368",
     "status": "completed"
    },
    "tags": []
   },
   "outputs": [],
   "source": [
    "from kubernetes import client\n",
    "\n",
    "from kfserving import KFServingClient\n",
    "from kfserving import constants\n",
    "from kfserving import utils\n",
    "from kfserving import V1alpha2EndpointSpec\n",
    "from kfserving import V1alpha2PredictorSpec\n",
    "from kfserving import V1alpha2SKLearnSpec\n",
    "from kfserving import V1alpha2InferenceServiceSpec\n",
    "from kfserving import V1alpha2InferenceService\n",
    "from kubernetes.client import V1ResourceRequirements"
   ]
  },
  {
   "cell_type": "code",
   "execution_count": null,
   "metadata": {
    "papermill": {
     "duration": 0.107594,
     "end_time": "2020-11-18T16:58:16.085369",
     "exception": false,
     "start_time": "2020-11-18T16:58:15.977775",
     "status": "completed"
    },
    "tags": []
   },
   "outputs": [],
   "source": [
    "KFServing = KFServingClient()"
   ]
  },
  {
   "cell_type": "code",
   "execution_count": null,
   "metadata": {
    "papermill": {
     "duration": 0.063151,
     "end_time": "2020-11-18T16:58:16.189803",
     "exception": false,
     "start_time": "2020-11-18T16:58:16.126652",
     "status": "completed"
    },
    "tags": []
   },
   "outputs": [],
   "source": [
    "# we need to use the 'kubeflow' namespace so that the KFP runner can create the inference service\n",
    "namespace = 'kubeflow'\n",
    "# this is the service account created for S3 access credentials\n",
    "service_acc = 'kfserving-sa'\n",
    "model_storage_uri = 's3://{}'.format(model_bucket)\n",
    "model_name = 'flight-model'"
   ]
  },
  {
   "cell_type": "code",
   "execution_count": null,
   "metadata": {
    "papermill": {
     "duration": 2.893991,
     "end_time": "2020-11-18T16:58:19.129355",
     "exception": false,
     "start_time": "2020-11-18T16:58:16.235364",
     "status": "completed"
    },
    "tags": []
   },
   "outputs": [],
   "source": [
    "api_version = constants.KFSERVING_GROUP + '/' + constants.KFSERVING_VERSION\n",
    "default_endpoint_spec = V1alpha2EndpointSpec(\n",
    "    predictor=V1alpha2PredictorSpec(\n",
    "        sklearn=V1alpha2SKLearnSpec(\n",
    "            storage_uri=model_storage_uri,\n",
    "            resources=V1ResourceRequirements(\n",
    "                requests={'cpu':'100m','memory':'1Gi'},\n",
    "                limits={'cpu':'100m', 'memory':'1Gi'}\n",
    "            )\n",
    "        ),\n",
    "        service_account_name=service_acc\n",
    "    )\n",
    ")\n",
    "    \n",
    "isvc = V1alpha2InferenceService(api_version=api_version,\n",
    "                                kind=constants.KFSERVING_KIND,\n",
    "                                metadata=client.V1ObjectMeta(\n",
    "                                    name=model_name, namespace=namespace),\n",
    "                                spec=V1alpha2InferenceServiceSpec(default=default_endpoint_spec))\n",
    "KFServing.create(isvc)"
   ]
  },
  {
   "cell_type": "code",
   "execution_count": null,
   "metadata": {
    "papermill": {
     "duration": 119.962162,
     "end_time": "2020-11-18T17:00:19.130621",
     "exception": false,
     "start_time": "2020-11-18T16:58:19.168459",
     "status": "completed"
    },
    "tags": []
   },
   "outputs": [],
   "source": [
    "# Wait for the inference service to be ready\n",
    "KFServing.get(model_name, namespace=namespace, watch=True, timeout_seconds=120)"
   ]
  },
  {
   "cell_type": "markdown",
   "metadata": {
    "papermill": {
     "duration": 0.044726,
     "end_time": "2020-11-18T17:00:19.224273",
     "exception": false,
     "start_time": "2020-11-18T17:00:19.179547",
     "status": "completed"
    },
    "tags": []
   },
   "source": [
    "### Test the inference service\n",
    "\n",
    "Once the inference service is running and available, we can send some test data to the service.\n",
    "\n",
    "**Note** that when deployed into KFP, we need to use the cluster-local url for the model. When executing locally, we assume that port-forwarding is enabled to allow access to the ingress gateway."
   ]
  },
  {
   "cell_type": "code",
   "execution_count": null,
   "metadata": {
    "papermill": {
     "duration": 0.084982,
     "end_time": "2020-11-18T17:00:19.360922",
     "exception": false,
     "start_time": "2020-11-18T17:00:19.275940",
     "status": "completed"
    },
    "tags": []
   },
   "outputs": [],
   "source": [
    "service = KFServing.get(model_name, namespace=namespace)"
   ]
  },
  {
   "cell_type": "code",
   "execution_count": null,
   "metadata": {
    "papermill": {
     "duration": 0.078281,
     "end_time": "2020-11-18T17:00:19.493930",
     "exception": false,
     "start_time": "2020-11-18T17:00:19.415649",
     "status": "completed"
    },
    "tags": []
   },
   "outputs": [],
   "source": [
    "# load the 10 example rows from our test data, and display a few rows\n",
    "examples = np.load('data/test_rows.npy')\n",
    "examples[:3]"
   ]
  },
  {
   "cell_type": "code",
   "execution_count": null,
   "metadata": {
    "papermill": {
     "duration": 1.394202,
     "end_time": "2020-11-18T17:00:20.943882",
     "exception": true,
     "start_time": "2020-11-18T17:00:19.549680",
     "status": "failed"
    },
    "tags": []
   },
   "outputs": [],
   "source": [
    "model_mode = os.environ.get('MODEL_MODE', 'local')\n",
    "model_data = {\"instances\": examples.tolist()}\n",
    "if model_mode == 'local':\n",
    "    # executing locally, use the ingress gateway (we assume port-forwarding) \n",
    "    url = f'http://localhost:8080/v1/models/{model_name}:predict'\n",
    "    service_hostname = '{}.{}.example.com'.format(model_name, namespace)\n",
    "    headers = {'Host': service_hostname}\n",
    "    resp = requests.post(url=url, json=model_data, headers=headers)\n",
    "else:\n",
    "    # we are executing in KFP, use the cluster-local address\n",
    "    url = service['status']['address']['url']\n",
    "    resp = requests.post(url=url, json=model_data)\n",
    "\n",
    "resp.json()"
   ]
  },
  {
   "cell_type": "markdown",
   "metadata": {
    "papermill": {
     "duration": null,
     "end_time": null,
     "exception": null,
     "start_time": null,
     "status": "pending"
    },
    "tags": []
   },
   "source": [
    "### Delete the model service\n",
    "\n",
    "Once we are done, we clean up the service."
   ]
  },
  {
   "cell_type": "code",
   "execution_count": null,
   "metadata": {
    "papermill": {
     "duration": null,
     "end_time": null,
     "exception": null,
     "start_time": null,
     "status": "pending"
    },
    "tags": []
   },
   "outputs": [],
   "source": [
    "KFServing.delete(model_name, namespace=namespace)"
   ]
  },
  {
   "cell_type": "markdown",
   "metadata": {
    "papermill": {
     "duration": null,
     "end_time": null,
     "exception": null,
     "start_time": null,
     "status": "pending"
    },
    "tags": []
   },
   "source": [
    "### Authors\n",
    "This notebook was created by the [Center for Open-Source Data & AI Technologies](http://codait.org).\n",
    "\n",
    "Copyright © 2019 IBM. This notebook and its source code are released under the terms of the MIT License."
   ]
  }
 ],
 "metadata": {
  "kernelspec": {
   "display_name": "Python 3",
   "language": "python",
   "name": "python3"
  },
  "language_info": {
   "codemirror_mode": {
    "name": "ipython",
    "version": 3
   },
   "file_extension": ".py",
   "mimetype": "text/x-python",
   "name": "python",
   "nbconvert_exporter": "python",
   "pygments_lexer": "ipython3",
   "version": "3.7.9"
  },
  "papermill": {
   "duration": 158.620592,
   "end_time": "2020-11-18T17:00:22.439093",
   "environment_variables": {},
   "exception": true,
   "input_path": "/Users/nick/workspace/python/flight-delay-notebooks/notebooks/deploy_model.ipynb",
   "output_path": "/Users/nick/workspace/python/flight-delay-notebooks/notebooks/deploy_model.ipynb",
   "parameters": {},
   "start_time": "2020-11-18T16:57:43.818501",
   "version": "2.1.1"
  },
  "toc-autonumbering": false,
  "toc-showcode": false,
  "toc-showmarkdowntxt": false,
  "toc-showtags": false
 },
 "nbformat": 4,
 "nbformat_minor": 4
}
